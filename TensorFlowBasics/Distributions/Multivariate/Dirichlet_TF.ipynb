{
 "cells": [
  {
   "cell_type": "markdown",
   "metadata": {},
   "source": [
    "# Dirichlet Distribution\n",
    "\n",
    "## In Tensorflow :D"
   ]
  },
  {
   "cell_type": "code",
   "execution_count": 1,
   "metadata": {
    "collapsed": true
   },
   "outputs": [],
   "source": [
    "import tensorflow as tf\n",
    "import numpy as np\n",
    "import seaborn as sns\n",
    "import matplotlib.pyplot as plt\n",
    "%matplotlib inline\n",
    "\n",
    "distribution_name = \"Dirichlet\""
   ]
  },
  {
   "cell_type": "markdown",
   "metadata": {},
   "source": [
    "### Mathematical Details:"
   ]
  },
  {
   "cell_type": "markdown",
   "metadata": {},
   "source": [
    "The Dirichlet is a distribution over the open (k-1)-simplex, i.e.,\n",
    "\n",
    "*S^{k-1} = { (x_0, ..., x_{k-1}) in R^k : sum_j x_j = 1 and all_j x_j > 0 }.*\n",
    "\n",
    "\n",
    "The probability density function (pdf) is,\n",
    "\n",
    "*pdf(x; alpha) = prod_j x_j^(alpha_j - 1) / Z\n",
    "Z = prod_j Gamma(alpha_j) / Gamma(sum_j alpha_j)*\n",
    "\n",
    "where:\n",
    "\n",
    " - x in S^{k-1}, i.e., the (k-1)-simplex,\n",
    " - concentration = alpha = [alpha_0, ..., alpha_{k-1}], alpha_j > 0,\n",
    " - Z is the normalization constant aka the multivariate beta function, and,\n",
    " - Gamma is the gamma function.\n",
    "\n",
    "The concentration represents mean total counts of class occurrence, i.e.,\n",
    "\n",
    "*concentration = alpha = mean * total_concentration*\n",
    "\n",
    "where mean in S^{k-1} and total_concentration is a positive real number representing a mean total count.\n",
    "\n"
   ]
  },
  {
   "cell_type": "code",
   "execution_count": 2,
   "metadata": {
    "collapsed": true
   },
   "outputs": [],
   "source": [
    "#Define the distribution\n",
    "dist = tf.contrib.distributions.Dirichlet(alpha=[1.0,2.0,3.0])"
   ]
  },
  {
   "cell_type": "code",
   "execution_count": 3,
   "metadata": {
    "collapsed": true
   },
   "outputs": [],
   "source": [
    "#Generate a sample given shape. Could be two observations with 5 features.\n",
    "randomSample = dist.sample([2,5])\n",
    "\n",
    "#Generate a 'massive' sample for plotting\n",
    "massiveSampling = dist.sample([10000])"
   ]
  },
  {
   "cell_type": "code",
   "execution_count": 4,
   "metadata": {
    "collapsed": true
   },
   "outputs": [],
   "source": [
    "with tf.Session() as sess:\n",
    "    \n",
    "    _randomSample,_massiveSample = sess.run([randomSample,massiveSampling])"
   ]
  },
  {
   "cell_type": "markdown",
   "metadata": {},
   "source": [
    "### Output of random values from distribution"
   ]
  },
  {
   "cell_type": "code",
   "execution_count": 5,
   "metadata": {},
   "outputs": [
    {
     "name": "stdout",
     "output_type": "stream",
     "text": [
      "2 observations x 5 features:\n",
      "[[[ 0.06790281  0.64318728  0.28890985]\n",
      "  [ 0.00188693  0.9322859   0.06582713]\n",
      "  [ 0.0403049   0.48315117  0.47654396]\n",
      "  [ 0.21812643  0.09863134  0.6832422 ]\n",
      "  [ 0.24709734  0.39487651  0.35802612]]\n",
      "\n",
      " [[ 0.16185987  0.47562408  0.36251602]\n",
      "  [ 0.16521324  0.44139642  0.39339039]\n",
      "  [ 0.28837675  0.0831795   0.62844378]\n",
      "  [ 0.00359853  0.36453843  0.63186306]\n",
      "  [ 0.01027645  0.13307072  0.85665286]]]\n"
     ]
    }
   ],
   "source": [
    "print('2 observations x 5 features:\\n%s' % _randomSample)"
   ]
  }
 ],
 "metadata": {
  "kernelspec": {
   "display_name": "Python 3",
   "language": "python",
   "name": "python3"
  },
  "language_info": {
   "codemirror_mode": {
    "name": "ipython",
    "version": 3
   },
   "file_extension": ".py",
   "mimetype": "text/x-python",
   "name": "python",
   "nbconvert_exporter": "python",
   "pygments_lexer": "ipython3",
   "version": "3.5.3"
  }
 },
 "nbformat": 4,
 "nbformat_minor": 2
}
