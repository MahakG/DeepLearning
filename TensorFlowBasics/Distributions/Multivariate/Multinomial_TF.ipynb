{
 "cells": [
  {
   "cell_type": "markdown",
   "metadata": {},
   "source": [
    "# Multinomial Distribution\n",
    "\n",
    "## In Tensorflow :D"
   ]
  },
  {
   "cell_type": "code",
   "execution_count": 1,
   "metadata": {
    "collapsed": true
   },
   "outputs": [],
   "source": [
    "import tensorflow as tf\n",
    "import numpy as np\n",
    "import seaborn as sns\n",
    "import matplotlib.pyplot as plt\n",
    "%matplotlib inline\n",
    "\n",
    "distribution_name = \"Multinomial\""
   ]
  },
  {
   "cell_type": "markdown",
   "metadata": {},
   "source": [
    "### Mathematical Details:"
   ]
  },
  {
   "cell_type": "markdown",
   "metadata": {},
   "source": [
    "The Multinomial is a distribution over k-class counts, i.e., a length-k vector of non-negative integer counts = n = [n_0, ..., n_{k-1}].\n",
    "\n",
    "The probability mass function (pmf) is,\n",
    "\n",
    "*pmf(n; pi, N) = prod_j (pi_j)^n_j / Z<br>\n",
    "Z = (prod_j n_j!) / N!*\n",
    "\n",
    "where: probs = pi = [pi_0, ..., pi_{k-1}], pi_j > 0, sum_j pi_j = 1, total_count = N, N a positive integer, Z is the normalization constant, and, N! denotes N factorial.\n",
    "\n"
   ]
  },
  {
   "cell_type": "code",
   "execution_count": 8,
   "metadata": {},
   "outputs": [],
   "source": [
    "#Define the distribution\n",
    "dist = tf.contrib.distributions.Multinomial(n=10.0,p=[0.2,0.3,0.5])"
   ]
  },
  {
   "cell_type": "code",
   "execution_count": 9,
   "metadata": {
    "collapsed": true
   },
   "outputs": [],
   "source": [
    "#Generate a sample given shape. Could be two observations with 5 features.\n",
    "randomSample = dist.sample([2,5])\n",
    "\n",
    "#Generate a 'massive' sample for plotting\n",
    "massiveSampling = dist.sample([10000])"
   ]
  },
  {
   "cell_type": "code",
   "execution_count": 10,
   "metadata": {
    "collapsed": true
   },
   "outputs": [],
   "source": [
    "with tf.Session() as sess:\n",
    "    \n",
    "    _randomSample,_massiveSample = sess.run([randomSample,massiveSampling])"
   ]
  },
  {
   "cell_type": "markdown",
   "metadata": {},
   "source": [
    "### Output of random values from distribution"
   ]
  },
  {
   "cell_type": "code",
   "execution_count": 11,
   "metadata": {},
   "outputs": [
    {
     "name": "stdout",
     "output_type": "stream",
     "text": [
      "2 observations x 5 features:\n",
      "[[[ 1.  5.  4.]\n",
      "  [ 3.  1.  6.]\n",
      "  [ 1.  2.  7.]\n",
      "  [ 2.  1.  7.]\n",
      "  [ 0.  4.  6.]]\n",
      "\n",
      " [[ 4.  3.  3.]\n",
      "  [ 4.  2.  4.]\n",
      "  [ 5.  1.  4.]\n",
      "  [ 3.  3.  4.]\n",
      "  [ 2.  1.  7.]]]\n"
     ]
    }
   ],
   "source": [
    "print('2 observations x 5 features:\\n%s' % _randomSample)"
   ]
  }
 ],
 "metadata": {
  "kernelspec": {
   "display_name": "Python 3",
   "language": "python",
   "name": "python3"
  },
  "language_info": {
   "codemirror_mode": {
    "name": "ipython",
    "version": 3
   },
   "file_extension": ".py",
   "mimetype": "text/x-python",
   "name": "python",
   "nbconvert_exporter": "python",
   "pygments_lexer": "ipython3",
   "version": "3.5.3"
  }
 },
 "nbformat": 4,
 "nbformat_minor": 2
}
