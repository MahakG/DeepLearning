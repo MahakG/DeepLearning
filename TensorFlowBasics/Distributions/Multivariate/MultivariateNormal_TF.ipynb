{
 "cells": [
  {
   "cell_type": "markdown",
   "metadata": {},
   "source": [
    "# Multivariate Normal Distribution\n",
    "\n",
    "## In Tensorflow :D"
   ]
  },
  {
   "cell_type": "code",
   "execution_count": 1,
   "metadata": {
    "collapsed": true
   },
   "outputs": [],
   "source": [
    "import tensorflow as tf\n",
    "import numpy as np\n",
    "import seaborn as sns\n",
    "import matplotlib.pyplot as plt\n",
    "%matplotlib inline\n",
    "\n",
    "distribution_name = \"Multivariate Normal\""
   ]
  },
  {
   "cell_type": "markdown",
   "metadata": {},
   "source": [
    "### Mathematical Details:"
   ]
  },
  {
   "cell_type": "markdown",
   "metadata": {},
   "source": [
    "The probability density function (pdf) is,\n",
    "\n",
    "*pdf(x; loc, scale) = exp(-0.5 ||y||^2) / Z,<br>\n",
    "y = inv(scale) @ (x - loc),<br>\n",
    "Z = (2 pi)^(0.5 k) |det(scale)|,*<br>\n",
    "\n",
    "where:\n",
    "\n",
    " - loc is a vector in R^k,\n",
    " - scale is a linear operator in R^{k x k}, cov = scale @ scale.T,\n",
    " - Z denotes the normalization constant, and,\n",
    " - ||y||^2 denotes the squared Euclidean norm of y.\n",
    "\n",
    "A (non-batch) scale matrix is:\n",
    "\n",
    "*scale = diag(scale_diag + scale_identity_multiplier x ones(k))*"
   ]
  },
  {
   "cell_type": "code",
   "execution_count": 8,
   "metadata": {},
   "outputs": [],
   "source": [
    "#Define the distribution\n",
    "dist = tf.contrib.distributions.MultivariateNormalDiag(mu=[1.0,-1.0],diag_stdev=[1.0,2.0])"
   ]
  },
  {
   "cell_type": "code",
   "execution_count": 9,
   "metadata": {
    "collapsed": true
   },
   "outputs": [],
   "source": [
    "#Generate a sample given shape. Could be two observations with 5 features.\n",
    "randomSample = dist.sample([2,5])\n",
    "\n",
    "#Generate a 'massive' sample for plotting\n",
    "massiveSampling = dist.sample([10000])"
   ]
  },
  {
   "cell_type": "code",
   "execution_count": 10,
   "metadata": {},
   "outputs": [],
   "source": [
    "with tf.Session() as sess:\n",
    "    \n",
    "    _randomSample,_massiveSample = sess.run([randomSample,massiveSampling])"
   ]
  },
  {
   "cell_type": "markdown",
   "metadata": {},
   "source": [
    "### Output of random values from distribution"
   ]
  },
  {
   "cell_type": "code",
   "execution_count": 15,
   "metadata": {},
   "outputs": [
    {
     "name": "stdout",
     "output_type": "stream",
     "text": [
      "2 observations x 5 features:\n",
      "[[[ -4.89796638e-01   1.74694276e+00]\n",
      "  [  1.00499833e+00   1.32710171e+00]\n",
      "  [  5.25968194e-01  -3.33064497e-01]\n",
      "  [  2.52522826e+00  -4.16467094e+00]\n",
      "  [  4.88294303e-01  -1.75846851e+00]]\n",
      "\n",
      " [[  1.47401547e+00  -4.86058414e-01]\n",
      "  [  9.52566266e-02   3.79656792e+00]\n",
      "  [  3.27348709e-04  -4.61275697e-01]\n",
      "  [  1.40235281e+00   7.92783022e-01]\n",
      "  [  1.66619611e+00  -2.29718399e+00]]]\n"
     ]
    }
   ],
   "source": [
    "print('2 observations x 5 features:\\n%s' % _randomSample)"
   ]
  }
 ],
 "metadata": {
  "kernelspec": {
   "display_name": "Python 3",
   "language": "python",
   "name": "python3"
  },
  "language_info": {
   "codemirror_mode": {
    "name": "ipython",
    "version": 3
   },
   "file_extension": ".py",
   "mimetype": "text/x-python",
   "name": "python",
   "nbconvert_exporter": "python",
   "pygments_lexer": "ipython3",
   "version": "3.5.3"
  }
 },
 "nbformat": 4,
 "nbformat_minor": 2
}
