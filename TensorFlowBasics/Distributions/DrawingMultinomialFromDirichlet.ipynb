{
 "cells": [
  {
   "cell_type": "code",
   "execution_count": 14,
   "metadata": {
    "collapsed": true
   },
   "outputs": [],
   "source": [
    "import numpy as np\n",
    "import tensorflow as tf"
   ]
  },
  {
   "cell_type": "code",
   "execution_count": 27,
   "metadata": {},
   "outputs": [],
   "source": [
    "dirichlet = tf.contrib.distributions.Dirichlet(alpha=[1.0,2.0,3.0]) #Like dirichlet"
   ]
  },
  {
   "cell_type": "markdown",
   "metadata": {},
   "source": [
    "#### Step 1: Draw a vector of probabilities from the Dirichlet distribution"
   ]
  },
  {
   "cell_type": "code",
   "execution_count": 28,
   "metadata": {
    "collapsed": true
   },
   "outputs": [],
   "source": [
    "dirichletSample = dirichlet.sample(1)"
   ]
  },
  {
   "cell_type": "markdown",
   "metadata": {},
   "source": [
    "#### Step 2: Use the vector of probabilities to draw a vector of outcomes from the multinomial distribution"
   ]
  },
  {
   "cell_type": "code",
   "execution_count": 29,
   "metadata": {},
   "outputs": [],
   "source": [
    "multinomial = tf.contrib.distributions.Multinomial(n=1.0,p=dirichletSample)"
   ]
  },
  {
   "cell_type": "code",
   "execution_count": 30,
   "metadata": {
    "collapsed": true
   },
   "outputs": [],
   "source": [
    "multinomialSample = multinomial.sample(10)"
   ]
  },
  {
   "cell_type": "code",
   "execution_count": 31,
   "metadata": {
    "collapsed": true
   },
   "outputs": [],
   "source": [
    "with tf.Session() as sess:\n",
    "    \n",
    "    _multinomialSample,_dirichletSample = sess.run([multinomialSample,dirichletSample])"
   ]
  },
  {
   "cell_type": "code",
   "execution_count": 32,
   "metadata": {},
   "outputs": [
    {
     "name": "stdout",
     "output_type": "stream",
     "text": [
      "From Dirichlet sample:\n",
      "[[ 0.00896624  0.40878019  0.58225358]]\n",
      "Generated outcomes from Multinomial:\n",
      " [[[ 0.  0.  1.]]\n",
      "\n",
      " [[ 0.  0.  1.]]\n",
      "\n",
      " [[ 0.  0.  1.]]\n",
      "\n",
      " [[ 0.  1.  0.]]\n",
      "\n",
      " [[ 0.  0.  1.]]\n",
      "\n",
      " [[ 0.  0.  1.]]\n",
      "\n",
      " [[ 0.  0.  1.]]\n",
      "\n",
      " [[ 0.  1.  0.]]\n",
      "\n",
      " [[ 0.  1.  0.]]\n",
      "\n",
      " [[ 0.  1.  0.]]]\n"
     ]
    }
   ],
   "source": [
    "print('From Dirichlet sample:\\n%s' % _dirichletSample)\n",
    "\n",
    "print('Generated outcomes from Multinomial:\\n %s' % _multinomialSample)"
   ]
  }
 ],
 "metadata": {
  "kernelspec": {
   "display_name": "Python 3",
   "language": "python",
   "name": "python3"
  },
  "language_info": {
   "codemirror_mode": {
    "name": "ipython",
    "version": 3
   },
   "file_extension": ".py",
   "mimetype": "text/x-python",
   "name": "python",
   "nbconvert_exporter": "python",
   "pygments_lexer": "ipython3",
   "version": "3.5.3"
  }
 },
 "nbformat": 4,
 "nbformat_minor": 2
}
