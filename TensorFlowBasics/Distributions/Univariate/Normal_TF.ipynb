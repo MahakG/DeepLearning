{
 "cells": [
  {
   "cell_type": "markdown",
   "metadata": {},
   "source": [
    "# Normal Distribution\n",
    "\n",
    "## In Tensorflow :D"
   ]
  },
  {
   "cell_type": "code",
   "execution_count": 12,
   "metadata": {
    "collapsed": true
   },
   "outputs": [],
   "source": [
    "import tensorflow as tf\n",
    "import numpy as np\n",
    "import seaborn as sns\n",
    "import matplotlib.pyplot as plt\n",
    "%matplotlib inline\n",
    "\n",
    "distribution_name = \"Normal\""
   ]
  },
  {
   "cell_type": "markdown",
   "metadata": {},
   "source": [
    "### Probability Density Function (PDF):"
   ]
  },
  {
   "cell_type": "markdown",
   "metadata": {},
   "source": [
    "*pdf(x; mu, sigma) = exp(-0.5 (x - mu)^2 / sigma^2) / Z<br>\n",
    "Z = (2 pi sigma^2)^0.5*\n",
    "\n",
    "where *loc = mu* is the mean, *scale = sigma* is the std. deviation, and, *Z* is the normalization constant."
   ]
  },
  {
   "cell_type": "code",
   "execution_count": 2,
   "metadata": {},
   "outputs": [],
   "source": [
    "#Define the distribution\n",
    "dist = tf.contrib.distributions.Normal(mu=1.0,sigma=0.5)"
   ]
  },
  {
   "cell_type": "code",
   "execution_count": 3,
   "metadata": {},
   "outputs": [],
   "source": [
    "#Evaluate the cdf at point\n",
    "ev_cdf = dist.cdf(1.)"
   ]
  },
  {
   "cell_type": "code",
   "execution_count": 4,
   "metadata": {},
   "outputs": [],
   "source": [
    "#Generate a sample given shape. Could be two observations with 5 features.\n",
    "randomSample = dist.sample([2,5])\n",
    "\n",
    "#Generate a 'massive' sample for plotting\n",
    "massiveSampling = dist.sample([10000])"
   ]
  },
  {
   "cell_type": "code",
   "execution_count": 5,
   "metadata": {},
   "outputs": [],
   "source": [
    "with tf.Session() as sess:\n",
    "    \n",
    "    _ev_cdf,_randomSample,_massiveSample = sess.run([ev_cdf,randomSample,massiveSampling])"
   ]
  },
  {
   "cell_type": "markdown",
   "metadata": {},
   "source": [
    "### Output of random values from distribution"
   ]
  },
  {
   "cell_type": "code",
   "execution_count": 6,
   "metadata": {},
   "outputs": [
    {
     "name": "stdout",
     "output_type": "stream",
     "text": [
      "2 observations x 5 features:\n",
      "[[ 0.75511485  1.65878534  1.18447876  1.61726117  1.36156964]\n",
      " [ 0.95027333  1.42654419  1.16547656  0.85570765  0.57899916]]\n"
     ]
    }
   ],
   "source": [
    "print('2 observations x 5 features:\\n%s' % _randomSample)\n"
   ]
  },
  {
   "cell_type": "markdown",
   "metadata": {},
   "source": [
    "### Cumulative Distribution Function\n",
    "\n",
    "x = 1"
   ]
  },
  {
   "cell_type": "code",
   "execution_count": 7,
   "metadata": {},
   "outputs": [
    {
     "name": "stdout",
     "output_type": "stream",
     "text": [
      "cdf(x=1) : 0.50\n"
     ]
    }
   ],
   "source": [
    "print('cdf(x=1) : %.2f' % _ev_cdf)"
   ]
  },
  {
   "cell_type": "markdown",
   "metadata": {},
   "source": [
    "### Visualize"
   ]
  },
  {
   "cell_type": "code",
   "execution_count": 21,
   "metadata": {},
   "outputs": [
    {
     "data": {
      "image/png": "[encoded data removed]",
      "text/plain": [
       "<matplotlib.figure.Figure at 0x1e51baf4b00>"
      ]
     },
     "metadata": {},
     "output_type": "display_data"
    }
   ],
   "source": [
    "plt.figure(figsize=(10,6))\n",
    "plt.title(distribution_name)\n",
    "plt.ylabel('freq')\n",
    "plt.xlabel('values')\n",
    "sns.distplot(_massiveSample);"
   ]
  }
 ],
 "metadata": {
  "kernelspec": {
   "display_name": "Python 3",
   "language": "python",
   "name": "python3"
  },
  "language_info": {
   "codemirror_mode": {
    "name": "ipython",
    "version": 3
   },
   "file_extension": ".py",
   "mimetype": "text/x-python",
   "name": "python",
   "nbconvert_exporter": "python",
   "pygments_lexer": "ipython3",
   "version": "3.5.3"
  }
 },
 "nbformat": 4,
 "nbformat_minor": 2
}
