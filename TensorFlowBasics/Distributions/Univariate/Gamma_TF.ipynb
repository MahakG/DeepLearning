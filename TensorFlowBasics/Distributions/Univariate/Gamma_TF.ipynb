{
 "cells": [
  {
   "cell_type": "markdown",
   "metadata": {},
   "source": [
    "# Gamma Distribution\n",
    "\n",
    "## In Tensorflow :D"
   ]
  },
  {
   "cell_type": "code",
   "execution_count": 2,
   "metadata": {
    "collapsed": true
   },
   "outputs": [],
   "source": [
    "import tensorflow as tf\n",
    "import numpy as np\n",
    "import seaborn as sns\n",
    "import matplotlib.pyplot as plt\n",
    "%matplotlib inline\n",
    "\n",
    "distribution_name = \"Gamma\""
   ]
  },
  {
   "cell_type": "markdown",
   "metadata": {},
   "source": [
    "### Probability Density Function (PDF):"
   ]
  },
  {
   "cell_type": "markdown",
   "metadata": {},
   "source": [
    "*pdf(x; alpha, beta, x > 0) = x^(alpha - 1) exp(-x beta) / Z<br>\n",
    "Z = Gamma(alpha) beta^alpha*\n",
    "\n",
    "where:\n",
    "\n",
    " - concentration = alpha, alpha > 0,\n",
    " - rate = beta, beta > 0,\n",
    " - Z is the normalizing constant, and,\n",
    " - Gamma is the gamma function.\n",
    "\n",
    "The cumulative density function (cdf) is,\n",
    "\n",
    "*cdf(x; alpha, beta, x > 0) = GammaInc(alpha, beta x) / Gamma(alpha)*\n"
   ]
  },
  {
   "cell_type": "code",
   "execution_count": 4,
   "metadata": {},
   "outputs": [],
   "source": [
    "#Define the distribution\n",
    "dist = tf.contrib.distributions.Gamma(alpha=3.0,beta=2.0)"
   ]
  },
  {
   "cell_type": "code",
   "execution_count": 5,
   "metadata": {
    "collapsed": true
   },
   "outputs": [],
   "source": [
    "#Evaluate the cdf at point\n",
    "ev_cdf = dist.cdf(0.5)"
   ]
  },
  {
   "cell_type": "code",
   "execution_count": 6,
   "metadata": {
    "collapsed": true
   },
   "outputs": [],
   "source": [
    "#Generate a sample given shape. Could be two observations with 5 features.\n",
    "randomSample = dist.sample([2,5])\n",
    "\n",
    "#Generate a 'massive' sample for plotting\n",
    "massiveSampling = dist.sample([10000])"
   ]
  },
  {
   "cell_type": "code",
   "execution_count": 7,
   "metadata": {
    "collapsed": true
   },
   "outputs": [],
   "source": [
    "with tf.Session() as sess:\n",
    "    \n",
    "    _ev_cdf,_randomSample,_massiveSample = sess.run([ev_cdf,randomSample,massiveSampling])"
   ]
  },
  {
   "cell_type": "markdown",
   "metadata": {},
   "source": [
    "### Output of random values from distribution"
   ]
  },
  {
   "cell_type": "code",
   "execution_count": 8,
   "metadata": {},
   "outputs": [
    {
     "name": "stdout",
     "output_type": "stream",
     "text": [
      "2 observations x 5 features:\n",
      "[[ 3.06756473  1.13459671  0.57373494  2.6863575   1.34542131]\n",
      " [ 1.40900159  3.23558331  1.44113672  1.78722584  1.37166071]]\n"
     ]
    }
   ],
   "source": [
    "print('2 observations x 5 features:\\n%s' % _randomSample)\n"
   ]
  },
  {
   "cell_type": "markdown",
   "metadata": {},
   "source": [
    "### Cumulative Distribution Function\n",
    "\n",
    "x = 1"
   ]
  },
  {
   "cell_type": "code",
   "execution_count": 9,
   "metadata": {},
   "outputs": [
    {
     "name": "stdout",
     "output_type": "stream",
     "text": [
      "cdf(x=1) : 0.080301\n"
     ]
    }
   ],
   "source": [
    "print('cdf(x=1) : %.6f' % _ev_cdf)"
   ]
  },
  {
   "cell_type": "markdown",
   "metadata": {},
   "source": [
    "### Visualize"
   ]
  },
  {
   "cell_type": "code",
   "execution_count": 10,
   "metadata": {},
   "outputs": [
    {
     "data": {
      "image/png": "[encoded data removed]",
      "text/plain": [
       "<matplotlib.figure.Figure at 0x18dc5b30da0>"
      ]
     },
     "metadata": {},
     "output_type": "display_data"
    }
   ],
   "source": [
    "plt.figure(figsize=(10,6))\n",
    "plt.title(distribution_name)\n",
    "sns.distplot(_massiveSample);"
   ]
  }
 ],
 "metadata": {
  "kernelspec": {
   "display_name": "Python 3",
   "language": "python",
   "name": "python3"
  },
  "language_info": {
   "codemirror_mode": {
    "name": "ipython",
    "version": 3
   },
   "file_extension": ".py",
   "mimetype": "text/x-python",
   "name": "python",
   "nbconvert_exporter": "python",
   "pygments_lexer": "ipython3",
   "version": "3.5.3"
  }
 },
 "nbformat": 4,
 "nbformat_minor": 2
}
