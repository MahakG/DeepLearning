{
 "cells": [
  {
   "cell_type": "markdown",
   "metadata": {},
   "source": [
    "# Softmax Cross Entropy With Logits\n",
    "\n",
    "## In Tensorflow :D"
   ]
  },
  {
   "cell_type": "code",
   "execution_count": 28,
   "metadata": {},
   "outputs": [
    {
     "data": {
      "text/plain": [
       "<matplotlib.figure.Figure at 0x163b5424e48>"
      ]
     },
     "metadata": {},
     "output_type": "display_data"
    }
   ],
   "source": [
    "import tensorflow as tf\n",
    "import numpy as np\n",
    "\n",
    "import matplotlib.pyplot as plt\n",
    "%matplotlib inline\n",
    "plt.figure(figsize = (7,3));\n"
   ]
  },
  {
   "cell_type": "markdown",
   "metadata": {},
   "source": [
    "## Softmax cross entropy with logits\n",
    "\n",
    "### One Hot version of labels\n",
    "\n",
    "Labels must have the shape [batch_size, num_classes]\n",
    "\n",
    "For example:\n",
    "\n",
    "<img src=\"http://i63.tinypic.com/xe4lrs.png\" style=\"float:left; display:block;\">\n"
   ]
  },
  {
   "cell_type": "markdown",
   "metadata": {},
   "source": [
    "Instance 1 belongs to Class 1<br>\n",
    "Instance 2 belongs to Class 3<br>\n",
    "..."
   ]
  },
  {
   "cell_type": "markdown",
   "metadata": {},
   "source": [
    "### Data\n",
    "\n",
    "5 Instances \n",
    "\n",
    "3 Possible classes"
   ]
  },
  {
   "cell_type": "code",
   "execution_count": 4,
   "metadata": {
    "collapsed": true
   },
   "outputs": [],
   "source": [
    "batch_size = 5\n",
    "num_classes = 3\n",
    "\n",
    "labels = np.array([1,0,0,1,0,0,1,0,0,1,0,0,1,0,0],dtype=np.float32).reshape(batch_size,num_classes)\n",
    "\n",
    "logits = np.array(np.random.normal(size=batch_size*num_classes)).reshape(batch_size,num_classes)\n"
   ]
  },
  {
   "cell_type": "markdown",
   "metadata": {},
   "source": [
    "All instances belongs to Class 1 for better visualization of 'softmax cross entropy' results"
   ]
  },
  {
   "cell_type": "code",
   "execution_count": 5,
   "metadata": {},
   "outputs": [
    {
     "data": {
      "text/plain": [
       "array([[ 1.,  0.,  0.],\n",
       "       [ 1.,  0.,  0.],\n",
       "       [ 1.,  0.,  0.],\n",
       "       [ 1.,  0.,  0.],\n",
       "       [ 1.,  0.,  0.]], dtype=float32)"
      ]
     },
     "execution_count": 5,
     "metadata": {},
     "output_type": "execute_result"
    }
   ],
   "source": [
    "labels"
   ]
  },
  {
   "cell_type": "code",
   "execution_count": 6,
   "metadata": {},
   "outputs": [
    {
     "data": {
      "text/plain": [
       "array([[-0.02885382,  0.09649351,  1.77738549],\n",
       "       [ 1.22950297, -0.89366507,  0.40407011],\n",
       "       [-0.17343032,  0.42716201, -0.34856366],\n",
       "       [-1.47042728,  1.75727068, -0.76310792],\n",
       "       [ 0.24912254, -0.27369571, -0.28589754]])"
      ]
     },
     "execution_count": 6,
     "metadata": {},
     "output_type": "execute_result"
    }
   ],
   "source": [
    "logits"
   ]
  },
  {
   "cell_type": "code",
   "execution_count": 7,
   "metadata": {
    "collapsed": true
   },
   "outputs": [],
   "source": [
    "loss = tf.nn.softmax_cross_entropy_with_logits(labels=labels,logits=logits)"
   ]
  },
  {
   "cell_type": "code",
   "execution_count": 8,
   "metadata": {
    "collapsed": true
   },
   "outputs": [],
   "source": [
    "with tf.Session() as sess:\n",
    "    \n",
    "    results = sess.run(fetches=[loss])\n",
    "    _loss = np.array(results[0])\n"
   ]
  },
  {
   "cell_type": "code",
   "execution_count": 41,
   "metadata": {},
   "outputs": [
    {
     "name": "stdout",
     "output_type": "stream",
     "text": [
      "Loss: [ 2.2475454   0.38068364  0.4852465   1.84657938  0.75747526]\n"
     ]
    },
    {
     "data": {
      "image/png": "[encoded data removed]",
      "text/plain": [
       "<matplotlib.figure.Figure at 0x163b645add8>"
      ]
     },
     "metadata": {},
     "output_type": "display_data"
    }
   ],
   "source": [
    "print('Loss:',_loss)\n",
    "\n",
    "plt.scatter(y=_loss,x=np.arange(start=0,step=1,stop=_loss.size));"
   ]
  },
  {
   "cell_type": "markdown",
   "metadata": {},
   "source": [
    "## Sparse Softmax cross entropy with logits\n",
    "\n",
    "### Sparse version of labels\n",
    "\n",
    "Labels must have the shape [batch_size]\n",
    "\n",
    "For example:\n",
    "\n",
    "<img src=\"http://i63.tinypic.com/2j5fna1.png\" style=\"float:left; display:block;\">\n"
   ]
  },
  {
   "cell_type": "markdown",
   "metadata": {},
   "source": [
    "Instance 1 belongs to Class 1<br>\n",
    "Instance 2 belongs to Class 3<br>\n",
    "..."
   ]
  },
  {
   "cell_type": "markdown",
   "metadata": {},
   "source": [
    "### Data\n",
    "\n",
    "5 Instances \n",
    "\n",
    "3 Possible classes"
   ]
  },
  {
   "cell_type": "code",
   "execution_count": 43,
   "metadata": {},
   "outputs": [],
   "source": [
    "batch_size = 5\n",
    "num_classes = 3\n",
    "\n",
    "labels = np.array([0,0,0,0,0],dtype=np.int32).reshape(batch_size)\n",
    "\n",
    "logits = np.array(np.random.normal(size=batch_size*num_classes)).reshape(batch_size,num_classes)\n"
   ]
  },
  {
   "cell_type": "code",
   "execution_count": 44,
   "metadata": {},
   "outputs": [
    {
     "data": {
      "text/plain": [
       "array([0, 0, 0, 0, 0])"
      ]
     },
     "execution_count": 44,
     "metadata": {},
     "output_type": "execute_result"
    }
   ],
   "source": [
    "labels"
   ]
  },
  {
   "cell_type": "code",
   "execution_count": 45,
   "metadata": {},
   "outputs": [
    {
     "data": {
      "text/plain": [
       "array([[-1.06414387, -0.89230485, -1.13904816],\n",
       "       [ 1.2059733 , -0.46395004,  0.30333916],\n",
       "       [-0.68081051, -0.25839147, -0.55900451],\n",
       "       [-0.46352909, -0.41144724, -0.19359544],\n",
       "       [ 0.33483116, -0.32507336, -1.24442609]])"
      ]
     },
     "execution_count": 45,
     "metadata": {},
     "output_type": "execute_result"
    }
   ],
   "source": [
    "logits"
   ]
  },
  {
   "cell_type": "code",
   "execution_count": 46,
   "metadata": {},
   "outputs": [],
   "source": [
    "sparse_loss = tf.nn.sparse_softmax_cross_entropy_with_logits(labels=labels,logits=logits)"
   ]
  },
  {
   "cell_type": "code",
   "execution_count": 47,
   "metadata": {},
   "outputs": [],
   "source": [
    "with tf.Session() as sess:\n",
    "    \n",
    "    results = sess.run(fetches=[sparse_loss])\n",
    "    _loss = np.array(results[0])\n"
   ]
  },
  {
   "cell_type": "code",
   "execution_count": 48,
   "metadata": {},
   "outputs": [
    {
     "name": "stdout",
     "output_type": "stream",
     "text": [
      "Loss: [ 1.13633153  0.46609701  1.29614606  1.21293438  0.54408369]\n"
     ]
    },
    {
     "data": {
      "image/png": "[encoded data removed]",
      "text/plain": [
       "<matplotlib.figure.Figure at 0x163b645ac50>"
      ]
     },
     "metadata": {},
     "output_type": "display_data"
    }
   ],
   "source": [
    "print('Loss:',_loss)\n",
    "\n",
    "plt.scatter(y=_loss,x=np.arange(start=0,step=1,stop=_loss.size));"
   ]
  },
  {
   "cell_type": "code",
   "execution_count": null,
   "metadata": {
    "collapsed": true
   },
   "outputs": [],
   "source": []
  },
  {
   "cell_type": "code",
   "execution_count": null,
   "metadata": {
    "collapsed": true
   },
   "outputs": [],
   "source": []
  }
 ],
 "metadata": {
  "kernelspec": {
   "display_name": "Python 3",
   "language": "python",
   "name": "python3"
  },
  "language_info": {
   "codemirror_mode": {
    "name": "ipython",
    "version": 3
   },
   "file_extension": ".py",
   "mimetype": "text/x-python",
   "name": "python",
   "nbconvert_exporter": "python",
   "pygments_lexer": "ipython3",
   "version": "3.5.3"
  }
 },
 "nbformat": 4,
 "nbformat_minor": 2
}
