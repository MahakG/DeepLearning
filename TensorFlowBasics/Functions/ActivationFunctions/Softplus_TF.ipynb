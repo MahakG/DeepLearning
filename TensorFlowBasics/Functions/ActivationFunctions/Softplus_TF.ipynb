{
 "cells": [
  {
   "cell_type": "markdown",
   "metadata": {},
   "source": [
    "# Softplus Activation Function\n",
    "\n",
    "## In Tensorflow :D\n",
    "\n",
    "### With visualization ;)"
   ]
  },
  {
   "cell_type": "markdown",
   "metadata": {},
   "source": [
    "Computes softplus: *log(exp(features) + 1)*"
   ]
  },
  {
   "cell_type": "code",
   "execution_count": 1,
   "metadata": {
    "collapsed": true
   },
   "outputs": [],
   "source": [
    "import tensorflow as tf\n",
    "import numpy as np\n",
    "import matplotlib.pyplot as plt\n",
    "%matplotlib inline\n",
    "\n",
    "function_name ='Softplus'"
   ]
  },
  {
   "cell_type": "markdown",
   "metadata": {},
   "source": [
    "### Data creation\n",
    "\n",
    "Three toy examples (instances, observations) with 5 features created from random normal dist."
   ]
  },
  {
   "cell_type": "code",
   "execution_count": 2,
   "metadata": {},
   "outputs": [
    {
     "data": {
      "text/plain": [
       "[array([ 0.18519569, -0.43416379,  0.95107506,  0.83790874,  0.917674  ]),\n",
       " array([-0.11120314,  2.14091273,  0.04742168,  0.33240842,  0.52015467]),\n",
       " array([ 0.61600876,  0.2573498 , -0.23714873, -0.57254312, -0.09098095])]"
      ]
     },
     "execution_count": 2,
     "metadata": {},
     "output_type": "execute_result"
    }
   ],
   "source": [
    "numInstances = 3\n",
    "\n",
    "data = []\n",
    "\n",
    "for _ in range(numInstances):\n",
    "    instance = np.random.normal(size=5)\n",
    "    data.append(instance)\n",
    "    \n",
    "data"
   ]
  },
  {
   "cell_type": "markdown",
   "metadata": {},
   "source": [
    "### Placeholder & The Op"
   ]
  },
  {
   "cell_type": "code",
   "execution_count": 3,
   "metadata": {
    "collapsed": true
   },
   "outputs": [],
   "source": [
    "data_ph = tf.placeholder(dtype=tf.float32,shape=[3,5])"
   ]
  },
  {
   "cell_type": "code",
   "execution_count": 4,
   "metadata": {
    "collapsed": true
   },
   "outputs": [],
   "source": [
    "softplus = tf.nn.softplus(data_ph)"
   ]
  },
  {
   "cell_type": "markdown",
   "metadata": {},
   "source": [
    "### Execute graph"
   ]
  },
  {
   "cell_type": "code",
   "execution_count": 5,
   "metadata": {},
   "outputs": [
    {
     "name": "stdout",
     "output_type": "stream",
     "text": [
      "Relu output: (3,5) <=> (instances,features)\n",
      "[[ 0.79002613  0.49944481  1.27773178  1.19740975  1.25375128]\n",
      " [ 0.6390906   2.25204945  0.71713907  0.87310016  0.98667002]\n",
      " [ 1.04785335  0.83007795  0.5815863   0.44730359  0.64869106]]\n"
     ]
    }
   ],
   "source": [
    "with tf.Session() as sess:\n",
    "    \n",
    "    _softplus = sess.run(softplus,feed_dict={data_ph:data})\n",
    "\n",
    "print('Relu output: (%d,%d) <=> (instances,features)\\n%s' % (_softplus.shape[0],_softplus.shape[1],_softplus))"
   ]
  },
  {
   "cell_type": "markdown",
   "metadata": {},
   "source": [
    "### Visualize"
   ]
  },
  {
   "cell_type": "code",
   "execution_count": 6,
   "metadata": {
    "collapsed": true
   },
   "outputs": [],
   "source": [
    "x_values = np.arange(-10,10,0.1)\n",
    "dynSess = tf.Session()\n",
    "y_values = dynSess.run(tf.nn.softplus(x_values))"
   ]
  },
  {
   "cell_type": "code",
   "execution_count": 7,
   "metadata": {},
   "outputs": [
    {
     "data": {
      "image/png": "[encoded data removed]",
      "text/plain": [
       "<matplotlib.figure.Figure at 0x21583471898>"
      ]
     },
     "metadata": {},
     "output_type": "display_data"
    }
   ],
   "source": [
    "plt.figure(figsize=(10,6))\n",
    "plt.title(function_name)\n",
    "plt.xlabel('input value')\n",
    "plt.ylabel('output value')\n",
    "plt.grid()\n",
    "plt.plot(x_values,y_values)\n",
    "plt.show();"
   ]
  },
  {
   "cell_type": "code",
   "execution_count": null,
   "metadata": {
    "collapsed": true
   },
   "outputs": [],
   "source": []
  }
 ],
 "metadata": {
  "kernelspec": {
   "display_name": "Python 3",
   "language": "python",
   "name": "python3"
  },
  "language_info": {
   "codemirror_mode": {
    "name": "ipython",
    "version": 3
   },
   "file_extension": ".py",
   "mimetype": "text/x-python",
   "name": "python",
   "nbconvert_exporter": "python",
   "pygments_lexer": "ipython3",
   "version": "3.5.3"
  }
 },
 "nbformat": 4,
 "nbformat_minor": 2
}
