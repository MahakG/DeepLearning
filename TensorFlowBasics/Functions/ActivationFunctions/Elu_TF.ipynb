{
 "cells": [
  {
   "cell_type": "markdown",
   "metadata": {},
   "source": [
    "# Elu Activation Function\n",
    "\n",
    "## In Tensorflow :D\n",
    "\n",
    "### With visualization ;)"
   ]
  },
  {
   "cell_type": "markdown",
   "metadata": {},
   "source": [
    "Computes exponential linear: *exp(features) - 1 if < 0, features otherwise*"
   ]
  },
  {
   "cell_type": "code",
   "execution_count": 1,
   "metadata": {
    "collapsed": true
   },
   "outputs": [],
   "source": [
    "import tensorflow as tf\n",
    "import numpy as np\n",
    "import matplotlib.pyplot as plt\n",
    "%matplotlib inline\n",
    "\n",
    "function_name ='Elu'"
   ]
  },
  {
   "cell_type": "markdown",
   "metadata": {},
   "source": [
    "### Data creation\n",
    "\n",
    "Three toy examples (instances, observations) with 5 features created from random normal dist."
   ]
  },
  {
   "cell_type": "code",
   "execution_count": 2,
   "metadata": {},
   "outputs": [
    {
     "data": {
      "text/plain": [
       "[array([-0.8186448 , -0.90684281, -1.40087008,  0.55943638,  0.3295212 ]),\n",
       " array([-0.21157092, -1.56242374,  0.17346099, -1.84420594, -1.72783072]),\n",
       " array([-0.10695338,  0.66549048,  3.60833511, -1.16880691, -0.49438651])]"
      ]
     },
     "execution_count": 2,
     "metadata": {},
     "output_type": "execute_result"
    }
   ],
   "source": [
    "numInstances = 3\n",
    "\n",
    "data = []\n",
    "\n",
    "for _ in range(numInstances):\n",
    "    instance = np.random.normal(size=5)\n",
    "    data.append(instance)\n",
    "    \n",
    "data"
   ]
  },
  {
   "cell_type": "markdown",
   "metadata": {},
   "source": [
    "### Placeholder & The Op"
   ]
  },
  {
   "cell_type": "code",
   "execution_count": 3,
   "metadata": {
    "collapsed": true
   },
   "outputs": [],
   "source": [
    "data_ph = tf.placeholder(dtype=tf.float32,shape=[3,5])"
   ]
  },
  {
   "cell_type": "code",
   "execution_count": 5,
   "metadata": {
    "collapsed": true
   },
   "outputs": [],
   "source": [
    "elu = tf.nn.elu(data_ph)"
   ]
  },
  {
   "cell_type": "markdown",
   "metadata": {},
   "source": [
    "### Execute graph"
   ]
  },
  {
   "cell_type": "code",
   "execution_count": 7,
   "metadata": {},
   "outputs": [
    {
     "name": "stdout",
     "output_type": "stream",
     "text": [
      "Relu output: (3,5) <=> (instances,features)\n",
      "[[-0.55897105 -0.59620291 -0.75361753  0.55943638  0.32952121]\n",
      " [-0.19068813 -0.79037261  0.17346099 -0.84184915 -0.82233059]\n",
      " [-0.10143244  0.66549045  3.60833502 -0.68926251 -0.390055  ]]\n"
     ]
    }
   ],
   "source": [
    "with tf.Session() as sess:\n",
    "    \n",
    "    _elu = sess.run(elu,feed_dict={data_ph:data})\n",
    "\n",
    "print('Relu output: (%d,%d) <=> (instances,features)\\n%s' % (_elu.shape[0],_elu.shape[1],_elu))"
   ]
  },
  {
   "cell_type": "markdown",
   "metadata": {},
   "source": [
    "### Visualize"
   ]
  },
  {
   "cell_type": "code",
   "execution_count": 8,
   "metadata": {
    "collapsed": true
   },
   "outputs": [],
   "source": [
    "x_values = np.arange(-10,10,0.1)\n",
    "dynSess = tf.Session()\n",
    "y_values = dynSess.run(tf.nn.elu(x_values))"
   ]
  },
  {
   "cell_type": "code",
   "execution_count": 10,
   "metadata": {},
   "outputs": [
    {
     "data": {
      "image/png": "[encoded data removed]",
      "text/plain": [
       "<matplotlib.figure.Figure at 0x1efc6d7bd68>"
      ]
     },
     "metadata": {},
     "output_type": "display_data"
    }
   ],
   "source": [
    "plt.figure(figsize=(10,6))\n",
    "plt.title(function_name)\n",
    "plt.xlabel('input value')\n",
    "plt.ylabel('output value')\n",
    "plt.grid()\n",
    "plt.plot(x_values,y_values)\n",
    "plt.show();"
   ]
  },
  {
   "cell_type": "code",
   "execution_count": null,
   "metadata": {
    "collapsed": true
   },
   "outputs": [],
   "source": []
  },
  {
   "cell_type": "code",
   "execution_count": null,
   "metadata": {
    "collapsed": true
   },
   "outputs": [],
   "source": []
  }
 ],
 "metadata": {
  "kernelspec": {
   "display_name": "Python 3",
   "language": "python",
   "name": "python3"
  },
  "language_info": {
   "codemirror_mode": {
    "name": "ipython",
    "version": 3
   },
   "file_extension": ".py",
   "mimetype": "text/x-python",
   "name": "python",
   "nbconvert_exporter": "python",
   "pygments_lexer": "ipython3",
   "version": "3.5.3"
  }
 },
 "nbformat": 4,
 "nbformat_minor": 2
}
