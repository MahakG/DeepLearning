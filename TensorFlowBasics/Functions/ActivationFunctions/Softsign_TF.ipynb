{
 "cells": [
  {
   "cell_type": "markdown",
   "metadata": {},
   "source": [
    "# Softsign Activation Function\n",
    "\n",
    "## In Tensorflow :D\n",
    "\n",
    "### With visualization ;)"
   ]
  },
  {
   "cell_type": "markdown",
   "metadata": {},
   "source": [
    "Computes softsign: *features / (abs(features) + 1)*"
   ]
  },
  {
   "cell_type": "code",
   "execution_count": 1,
   "metadata": {
    "collapsed": true
   },
   "outputs": [],
   "source": [
    "import tensorflow as tf\n",
    "import numpy as np\n",
    "import matplotlib.pyplot as plt\n",
    "%matplotlib inline\n",
    "\n",
    "function_name ='Softsign'"
   ]
  },
  {
   "cell_type": "markdown",
   "metadata": {},
   "source": [
    "### Data creation\n",
    "\n",
    "Three toy examples (instances, observations) with 5 features created from random normal dist."
   ]
  },
  {
   "cell_type": "code",
   "execution_count": 2,
   "metadata": {},
   "outputs": [
    {
     "data": {
      "text/plain": [
       "[array([ 0.67031859,  0.63256334, -0.72434056, -0.27354842,  0.63817443]),\n",
       " array([ 0.110367  , -0.6717869 ,  0.14188203,  0.22631503, -1.81858808]),\n",
       " array([ 1.59575404,  1.6903635 , -1.14475803, -0.41253323, -2.02476079])]"
      ]
     },
     "execution_count": 2,
     "metadata": {},
     "output_type": "execute_result"
    }
   ],
   "source": [
    "numInstances = 3\n",
    "\n",
    "data = []\n",
    "\n",
    "for _ in range(numInstances):\n",
    "    instance = np.random.normal(size=5)\n",
    "    data.append(instance)\n",
    "    \n",
    "data"
   ]
  },
  {
   "cell_type": "markdown",
   "metadata": {},
   "source": [
    "### Placeholder & The Op"
   ]
  },
  {
   "cell_type": "code",
   "execution_count": 3,
   "metadata": {
    "collapsed": true
   },
   "outputs": [],
   "source": [
    "data_ph = tf.placeholder(dtype=tf.float32,shape=[3,5])"
   ]
  },
  {
   "cell_type": "code",
   "execution_count": 4,
   "metadata": {
    "collapsed": true
   },
   "outputs": [],
   "source": [
    "softsign = tf.nn.softsign(data_ph)"
   ]
  },
  {
   "cell_type": "markdown",
   "metadata": {},
   "source": [
    "### Execute graph"
   ]
  },
  {
   "cell_type": "code",
   "execution_count": 5,
   "metadata": {},
   "outputs": [
    {
     "name": "stdout",
     "output_type": "stream",
     "text": [
      "Relu output: (3,5) <=> (instances,features)\n",
      "[[ 0.40131181  0.38746634 -0.42006814 -0.21479233  0.38956439]\n",
      " [ 0.09939686 -0.40183765  0.12425279  0.18454884 -0.64521241]\n",
      " [ 0.61475545  0.62830305 -0.5337469  -0.29205203 -0.66939533]]\n"
     ]
    }
   ],
   "source": [
    "with tf.Session() as sess:\n",
    "    \n",
    "    _softsign = sess.run(softsign,feed_dict={data_ph:data})\n",
    "\n",
    "print('Relu output: (%d,%d) <=> (instances,features)\\n%s' % (_softsign.shape[0],_softsign.shape[1],_softsign))"
   ]
  },
  {
   "cell_type": "markdown",
   "metadata": {},
   "source": [
    "### Visualize"
   ]
  },
  {
   "cell_type": "code",
   "execution_count": 6,
   "metadata": {
    "collapsed": true
   },
   "outputs": [],
   "source": [
    "x_values = np.arange(-10,10,0.1)\n",
    "dynSess = tf.Session()\n",
    "y_values = dynSess.run(tf.nn.softsign(x_values))"
   ]
  },
  {
   "cell_type": "code",
   "execution_count": 7,
   "metadata": {},
   "outputs": [
    {
     "data": {
      "image/png": "[encoded data removed]",
      "text/plain": [
       "<matplotlib.figure.Figure at 0x22c74ff2400>"
      ]
     },
     "metadata": {},
     "output_type": "display_data"
    }
   ],
   "source": [
    "plt.figure(figsize=(10,6))\n",
    "plt.title(function_name)\n",
    "plt.xlabel('input value')\n",
    "plt.ylabel('output value')\n",
    "plt.grid()\n",
    "plt.plot(x_values,y_values)\n",
    "plt.show();"
   ]
  }
 ],
 "metadata": {
  "kernelspec": {
   "display_name": "Python 3",
   "language": "python",
   "name": "python3"
  },
  "language_info": {
   "codemirror_mode": {
    "name": "ipython",
    "version": 3
   },
   "file_extension": ".py",
   "mimetype": "text/x-python",
   "name": "python",
   "nbconvert_exporter": "python",
   "pygments_lexer": "ipython3",
   "version": "3.5.3"
  }
 },
 "nbformat": 4,
 "nbformat_minor": 2
}
