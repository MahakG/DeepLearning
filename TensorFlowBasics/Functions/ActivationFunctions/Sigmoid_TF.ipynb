{
 "cells": [
  {
   "cell_type": "markdown",
   "metadata": {},
   "source": [
    "# Sigmoid Activation Function\n",
    "\n",
    "## In Tensorflow :D\n",
    "\n",
    "### With visualization ;)"
   ]
  },
  {
   "cell_type": "markdown",
   "metadata": {},
   "source": [
    "Computes sigmoid of x element-wise.\n",
    "\n",
    "Specifically, *y = 1 / (1 + exp(-x))*"
   ]
  },
  {
   "cell_type": "code",
   "execution_count": 1,
   "metadata": {
    "collapsed": true
   },
   "outputs": [],
   "source": [
    "import tensorflow as tf\n",
    "import numpy as np\n",
    "import matplotlib.pyplot as plt\n",
    "%matplotlib inline\n",
    "\n",
    "function_name ='Sigmoid'"
   ]
  },
  {
   "cell_type": "markdown",
   "metadata": {},
   "source": [
    "### Data creation\n",
    "\n",
    "Three toy examples (instances, observations) with 5 features created from random normal dist."
   ]
  },
  {
   "cell_type": "code",
   "execution_count": 5,
   "metadata": {},
   "outputs": [
    {
     "data": {
      "text/plain": [
       "[array([ 0.58241043, -1.56361892,  0.38806056, -0.58115122,  0.22308878]),\n",
       " array([-0.48995217,  0.26275254, -0.03144438,  0.79006312,  2.78041506]),\n",
       " array([-0.03292699, -0.74063705, -1.43436621, -1.6354804 ,  2.13741198])]"
      ]
     },
     "execution_count": 5,
     "metadata": {},
     "output_type": "execute_result"
    }
   ],
   "source": [
    "numInstances = 3\n",
    "\n",
    "data = []\n",
    "\n",
    "for _ in range(numInstances):\n",
    "    instance = np.random.normal(size=5)\n",
    "    data.append(instance)\n",
    "    \n",
    "data"
   ]
  },
  {
   "cell_type": "markdown",
   "metadata": {},
   "source": [
    "### Placeholder & The Op"
   ]
  },
  {
   "cell_type": "code",
   "execution_count": 6,
   "metadata": {
    "collapsed": true
   },
   "outputs": [],
   "source": [
    "data_ph = tf.placeholder(dtype=tf.float32,shape=[3,5])"
   ]
  },
  {
   "cell_type": "code",
   "execution_count": 7,
   "metadata": {
    "collapsed": true
   },
   "outputs": [],
   "source": [
    "sigmoid = tf.nn.sigmoid(data_ph)"
   ]
  },
  {
   "cell_type": "markdown",
   "metadata": {},
   "source": [
    "### Execute graph"
   ]
  },
  {
   "cell_type": "code",
   "execution_count": 8,
   "metadata": {},
   "outputs": [
    {
     "name": "stdout",
     "output_type": "stream",
     "text": [
      "Relu output: (3,5) <=> (instances,features)\n",
      "[[ 0.64162189  0.17312798  0.59581578  0.3586677   0.55554205]\n",
      " [ 0.37990484  0.5653128   0.49213955  0.68784487  0.94160825]\n",
      " [ 0.49176905  0.32286486  0.19241929  0.16308099  0.89448661]]\n"
     ]
    }
   ],
   "source": [
    "with tf.Session() as sess:\n",
    "    \n",
    "    _sigmoid = sess.run(sigmoid,feed_dict={data_ph:data})\n",
    "\n",
    "print('Relu output: (%d,%d) <=> (instances,features)\\n%s' % (_sigmoid.shape[0],_sigmoid.shape[1],_sigmoid))"
   ]
  },
  {
   "cell_type": "markdown",
   "metadata": {},
   "source": [
    "### Visualize"
   ]
  },
  {
   "cell_type": "code",
   "execution_count": 9,
   "metadata": {
    "collapsed": true
   },
   "outputs": [],
   "source": [
    "x_values = np.arange(-10,10,0.1)\n",
    "dynSess = tf.Session()\n",
    "y_values = dynSess.run(tf.nn.sigmoid(x_values))"
   ]
  },
  {
   "cell_type": "code",
   "execution_count": 10,
   "metadata": {},
   "outputs": [
    {
     "data": {
      "image/png": "[encoded data removed]",
      "text/plain": [
       "<matplotlib.figure.Figure at 0x2aba34b4438>"
      ]
     },
     "metadata": {},
     "output_type": "display_data"
    }
   ],
   "source": [
    "plt.figure(figsize=(10,6))\n",
    "plt.title(function_name)\n",
    "plt.xlabel('input value')\n",
    "plt.ylabel('output value')\n",
    "plt.grid()\n",
    "plt.plot(x_values,y_values)\n",
    "plt.show();"
   ]
  },
  {
   "cell_type": "code",
   "execution_count": null,
   "metadata": {
    "collapsed": true
   },
   "outputs": [],
   "source": []
  }
 ],
 "metadata": {
  "kernelspec": {
   "display_name": "Python 3",
   "language": "python",
   "name": "python3"
  },
  "language_info": {
   "codemirror_mode": {
    "name": "ipython",
    "version": 3
   },
   "file_extension": ".py",
   "mimetype": "text/x-python",
   "name": "python",
   "nbconvert_exporter": "python",
   "pygments_lexer": "ipython3",
   "version": "3.5.3"
  }
 },
 "nbformat": 4,
 "nbformat_minor": 2
}
