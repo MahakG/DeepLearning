{
 "cells": [
  {
   "cell_type": "markdown",
   "metadata": {},
   "source": [
    "# Relu Activation Function\n",
    "\n",
    "## In Tensorflow :D\n",
    "\n",
    "### With visualization ;)"
   ]
  },
  {
   "cell_type": "markdown",
   "metadata": {},
   "source": [
    "Computes rectified linear: *max(features, 0)*"
   ]
  },
  {
   "cell_type": "code",
   "execution_count": 1,
   "metadata": {
    "collapsed": true
   },
   "outputs": [],
   "source": [
    "import tensorflow as tf\n",
    "import numpy as np\n",
    "import matplotlib.pyplot as plt\n",
    "%matplotlib inline\n",
    "\n",
    "function_name ='Relu'"
   ]
  },
  {
   "cell_type": "markdown",
   "metadata": {},
   "source": [
    "### Data creation\n",
    "\n",
    "Three toy examples (instances, observations) with 5 features created from random normal dist."
   ]
  },
  {
   "cell_type": "code",
   "execution_count": 2,
   "metadata": {},
   "outputs": [
    {
     "data": {
      "text/plain": [
       "[array([ 0.40737818, -0.54877679,  1.4187214 , -1.06478942,  0.42862516]),\n",
       " array([ 0.3851275 ,  0.46419642,  0.59212152, -0.46092764,  0.84842212]),\n",
       " array([-0.09591532,  0.58201646,  1.25679616, -1.09459763, -0.52812025])]"
      ]
     },
     "execution_count": 2,
     "metadata": {},
     "output_type": "execute_result"
    }
   ],
   "source": [
    "numInstances = 3\n",
    "\n",
    "data = []\n",
    "\n",
    "for _ in range(numInstances):\n",
    "    instance = np.random.normal(size=5)\n",
    "    data.append(instance)\n",
    "    \n",
    "data"
   ]
  },
  {
   "cell_type": "markdown",
   "metadata": {},
   "source": [
    "### Placeholder & The Op"
   ]
  },
  {
   "cell_type": "code",
   "execution_count": 3,
   "metadata": {},
   "outputs": [],
   "source": [
    "data_ph = tf.placeholder(dtype=tf.float32,shape=[3,5])"
   ]
  },
  {
   "cell_type": "code",
   "execution_count": 4,
   "metadata": {},
   "outputs": [],
   "source": [
    "relu = tf.nn.relu(data_ph)"
   ]
  },
  {
   "cell_type": "markdown",
   "metadata": {},
   "source": [
    "### Execute graph"
   ]
  },
  {
   "cell_type": "code",
   "execution_count": 5,
   "metadata": {},
   "outputs": [
    {
     "name": "stdout",
     "output_type": "stream",
     "text": [
      "Relu output: (3,5) <=> (instances,features)\n",
      "[[ 0.4073782   0.          1.41872144  0.          0.42862517]\n",
      " [ 0.38512748  0.46419641  0.59212154  0.          0.84842211]\n",
      " [ 0.          0.58201647  1.25679612  0.          0.        ]]\n"
     ]
    }
   ],
   "source": [
    "with tf.Session() as sess:\n",
    "    \n",
    "    _relu = sess.run(relu,feed_dict={data_ph:data})\n",
    "\n",
    "print('Relu output: (%d,%d) <=> (instances,features)\\n%s' % (_relu.shape[0],_relu.shape[1],_relu))"
   ]
  },
  {
   "cell_type": "markdown",
   "metadata": {},
   "source": [
    "### Visualize"
   ]
  },
  {
   "cell_type": "code",
   "execution_count": 6,
   "metadata": {},
   "outputs": [],
   "source": [
    "x_values = np.arange(-10,10,0.1)\n",
    "dynSess = tf.Session()\n",
    "y_values = dynSess.run(tf.nn.relu(x_values))"
   ]
  },
  {
   "cell_type": "code",
   "execution_count": 14,
   "metadata": {},
   "outputs": [
    {
     "data": {
      "image/png": "[encoded data removed]",
      "text/plain": [
       "<matplotlib.figure.Figure at 0x190d904c710>"
      ]
     },
     "metadata": {},
     "output_type": "display_data"
    }
   ],
   "source": [
    "plt.figure(figsize=(10,6))\n",
    "plt.title(function_name)\n",
    "plt.xlabel('input value')\n",
    "plt.ylabel('output value')\n",
    "plt.grid()\n",
    "plt.plot(x_values,y_values)\n",
    "plt.show();"
   ]
  },
  {
   "cell_type": "code",
   "execution_count": null,
   "metadata": {
    "collapsed": true
   },
   "outputs": [],
   "source": []
  },
  {
   "cell_type": "code",
   "execution_count": null,
   "metadata": {
    "collapsed": true
   },
   "outputs": [],
   "source": []
  }
 ],
 "metadata": {
  "kernelspec": {
   "display_name": "Python 3",
   "language": "python",
   "name": "python3"
  },
  "language_info": {
   "codemirror_mode": {
    "name": "ipython",
    "version": 3
   },
   "file_extension": ".py",
   "mimetype": "text/x-python",
   "name": "python",
   "nbconvert_exporter": "python",
   "pygments_lexer": "ipython3",
   "version": "3.5.3"
  }
 },
 "nbformat": 4,
 "nbformat_minor": 2
}
