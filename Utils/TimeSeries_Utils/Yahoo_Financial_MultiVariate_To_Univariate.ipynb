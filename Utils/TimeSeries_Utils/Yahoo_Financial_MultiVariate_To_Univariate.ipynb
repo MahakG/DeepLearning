{
 "cells": [
  {
   "cell_type": "code",
   "execution_count": 6,
   "metadata": {
    "collapsed": true
   },
   "outputs": [],
   "source": [
    "import pandas as pd \n",
    "import numpy as np"
   ]
  },
  {
   "cell_type": "code",
   "execution_count": 36,
   "metadata": {
    "collapsed": true
   },
   "outputs": [],
   "source": [
    "def multi_to_uni(filename):\n",
    "    dataset = pd.read_csv(filename)\n",
    "    dataset = dataset.drop(labels=['Date','Open','High','Low','Adj Close','Volume'],axis=1) #Drop columns to univariate\n",
    "    #ALERT! Because of this ROW DROP we have to reindex all\n",
    "    dataset = dataset[~dataset.isin(['NaN', 'NaT','null']).any(axis=1)] #Get rid off null, nan etc\n",
    "    idx = np.arange(0,dataset.size)\n",
    "    dataset = dataset.set_index(keys=idx)\n",
    "\n",
    "    datasetX = dataset\n",
    "    datasetY = dataset\n",
    "    #ALERT! Because of this ROW DROP we have to reindex all\n",
    "    datasetX = datasetX.drop([datasetX.last_valid_index()],axis=0)\n",
    "    datasetY = datasetY.drop([datasetY.first_valid_index()],axis=0)\n",
    "    \n",
    "    \n",
    "    idx = np.arange(0,datasetY.size)\n",
    "    datasetY = datasetY.set_index(keys=idx)\n",
    "    datasetFinal = pd.concat([datasetX['Close'], datasetY['Close']], axis=1, keys=['CloseFeature', 'CloseTarget'])\n",
    "    datasetFinal.to_csv(filename[0:len(filename)-4]+\"_univariate.csv\",index=False)\n",
    "    \n",
    "    print('The univariate dataset looks like this:')\n",
    "    print(datasetFinal.head())\n",
    "    print(datasetFinal.tail())"
   ]
  },
  {
   "cell_type": "code",
   "execution_count": 37,
   "metadata": {},
   "outputs": [
    {
     "name": "stdout",
     "output_type": "stream",
     "text": [
      "The univariate dataset looks like this:\n",
      "  CloseFeature  CloseTarget\n",
      "0  1467.630005  1457.839966\n",
      "1  1457.839966  1471.359985\n",
      "2  1471.359985  1461.670044\n",
      "3  1461.670044  1456.949951\n",
      "4  1456.949951  1446.000000\n",
      "     CloseFeature  CloseTarget\n",
      "4269  2415.070068  2415.820068\n",
      "4270  2415.820068  2412.909912\n",
      "4271  2412.909912  2411.800049\n",
      "4272  2411.800049  2430.060059\n",
      "4273  2430.060059  2439.070068\n"
     ]
    }
   ],
   "source": [
    "multi_to_uni('SP500.csv')"
   ]
  },
  {
   "cell_type": "markdown",
   "metadata": {},
   "source": [
    "Yay! Univariate on Close price! :D"
   ]
  }
 ],
 "metadata": {
  "kernelspec": {
   "display_name": "Python 3",
   "language": "python",
   "name": "python3"
  },
  "language_info": {
   "codemirror_mode": {
    "name": "ipython",
    "version": 3
   },
   "file_extension": ".py",
   "mimetype": "text/x-python",
   "name": "python",
   "nbconvert_exporter": "python",
   "pygments_lexer": "ipython3",
   "version": "3.5.3"
  }
 },
 "nbformat": 4,
 "nbformat_minor": 2
}
