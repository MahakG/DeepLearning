{
 "cells": [
  {
   "cell_type": "markdown",
   "metadata": {},
   "source": [
    "## Vanilla Multilabel classification model with TensorFlow\n",
    "\n",
    "Details of this vanilla 'not-deep' model below"
   ]
  },
  {
   "cell_type": "code",
   "execution_count": 1,
   "metadata": {
    "collapsed": true
   },
   "outputs": [],
   "source": [
    "import tensorflow as tf\n",
    "import numpy as np\n",
    "import pandas as pd\n",
    "\n",
    "from sklearn.datasets import fetch_mldata\n",
    "\n",
    "import matplotlib.pyplot as plt\n",
    "%matplotlib inline"
   ]
  },
  {
   "cell_type": "markdown",
   "metadata": {},
   "source": [
    "## Load Data\n",
    "\n",
    "### Yeast\n",
    "\n",
    "Yeast is a dataset for multi-label classification. \n",
    "\n",
    "It doesn't really matter for this task but it is a 'Predicting the Cellular Localization Sites of Proteins' dataset.\n",
    "\n",
    "<table>\n",
    "  <tr>\n",
    "    <th>Features</th>\n",
    "    <th>Labels</th>\n",
    "  </tr>\n",
    "  <tr>\n",
    "    <td>103 numeric features</td>\n",
    "    <td>14 multi labels</td>\n",
    "  </tr>\n",
    "  <tr>\n",
    "</table>\n",
    "\n",
    "In summary, with 103 cell features we have to predict the **protein localization site** inside of the cell. Some of that 14 possible values are: *nuclear*, *mitochondrial*, *vacuolar*... And, of course, there could be proteins in **several sites** of the same cell, because of that, is a multi-label dataset.\n",
    "\n",
    "Dataset extracted from sklearn repositories.\n",
    "\n",
    "Same (or similar) dataset also available on <a href=\"https://archive.ics.uci.edu/ml/datasets/Yeast\">UCI - Machine Learning Repository</a>"
   ]
  },
  {
   "cell_type": "code",
   "execution_count": 2,
   "metadata": {},
   "outputs": [
    {
     "name": "stdout",
     "output_type": "stream",
     "text": [
      "Overview:\n",
      "Features shape:  (2417, 103)\n",
      "Labels shape:  (2417, 14)\n",
      "\n",
      "Sample first observation:\n",
      "Features:\n",
      " [ 0.0937    0.139771  0.062774  0.007698  0.083873 -0.119156  0.073305\n",
      "  0.00551   0.027523  0.043477 -0.024946  0.061221  0.147377  0.082805\n",
      " -0.011043 -0.001974 -0.147627  0.123673  0.005631  0.030659  0.005683\n",
      "  0.053414  0.069935  0.033555  0.105394 -0.013519  0.119103 -0.057485\n",
      " -0.02878   0.144546  0.101353  0.024763  0.011344  0.057414 -0.104664\n",
      " -0.01905  -0.113221 -0.209969 -0.107153  0.417066  0.047501 -0.198307\n",
      " -0.235089  0.138778 -0.224982 -0.154866 -0.320172 -0.027004  0.057681\n",
      "  0.052144 -0.033012 -0.013225  0.03099   0.017338 -0.108284 -0.034352\n",
      "  0.156367  0.138615 -0.068087  0.061809  0.027936  0.068643  0.05846\n",
      " -0.113733 -0.05492  -0.103299  0.016608 -0.066824  0.032705 -0.064818\n",
      "  0.009862 -0.088176 -0.018139 -0.034046 -0.098636 -0.174344 -0.070711\n",
      " -0.081028  0.105889 -0.004947 -0.039124 -0.007124  0.017693 -0.068304\n",
      " -0.021874 -0.011525 -0.029076  0.026808 -0.043047  0.01163   0.008882\n",
      " -0.012356 -0.052636  0.039048 -0.018712 -0.034711 -0.038675 -0.039102\n",
      "  0.017429 -0.052659 -0.042402  0.118473  0.125632]\n",
      "(Multi)Labels:\n",
      " [0 0 1 1 0 0 0 0 0 0 0 0 0 0]\n"
     ]
    }
   ],
   "source": [
    "yeast_dataset = fetch_mldata(\"yeast\")\n",
    "\n",
    "X = yeast_dataset.data\n",
    "Y = yeast_dataset.target.toarray().astype(np.int).T\n",
    "\n",
    "#Tiny function to get a random example for \"evaluación no honesta\"\n",
    "def get_random_example_with_labels():\n",
    "    rand_idx = np.random.randint(0,X.shape[0])\n",
    "    return X[rand_idx:rand_idx+1,:],Y[rand_idx:rand_idx+1,:]\n",
    "\n",
    "print('Overview:')\n",
    "print('Features shape: ',X.shape)\n",
    "print('Labels shape: ',Y.shape)\n",
    "\n",
    "print('\\nSample first observation:')\n",
    "print('Features:\\n %s' % X[0])\n",
    "print('(Multi)Labels:\\n %s' % Y[0])"
   ]
  },
  {
   "cell_type": "markdown",
   "metadata": {},
   "source": [
    "## Hyperparams"
   ]
  },
  {
   "cell_type": "code",
   "execution_count": 3,
   "metadata": {
    "collapsed": true
   },
   "outputs": [],
   "source": [
    "num_instances = X.shape[0]\n",
    "\n",
    "num_features = X.shape[1]\n",
    "\n",
    "num_classes = 14\n",
    "\n",
    "learning_rate = 0.00001\n",
    "\n",
    "batch_size = 16\n",
    "\n",
    "num_batches = num_instances//batch_size"
   ]
  },
  {
   "cell_type": "markdown",
   "metadata": {},
   "source": [
    "## Model\n",
    "\n",
    "### Overview\n",
    "Despite a multi-class model, to make it multi-label, we have to modify the **last layer** and the **evaluation** in order to be able to train it **with regard to multiple possible correct classes** for each observation.\n",
    "\n",
    "### Last layer\n",
    "\n",
    "In a multi-class model it's common to see a **softmax layer** as last layer (softmax squashes probs between [0,1]) and then computes the **loss** with **softmax cross entropy** that, according to TF doc: *Measures the probability error in discrete classification tasks in which the classes are mutually exclusive*\n",
    "\n",
    "In a **multi-label** model instead, we could use a **sigmoid layer** as last layer and then compute the **loss** with **sigmoid cross entropy** that, according to TF doc: *Measures the probability error in discrete classification tasks in which each class is independent and not mutually exclusive. For instance, one could perform multilabel classification where a picture can contain both an elephant and a dog at the same time.*\n",
    "\n",
    "### Evaluation\n",
    "\n",
    "Given that each observation now is like:\n",
    "\n",
    "Features | Label1 | Label2 | Label 3\n",
    "\n",
    "Observ0&nbsp;&nbsp;&nbsp;&nbsp;&nbsp;&nbsp;&nbsp;&nbsp;&nbsp;0&nbsp;&nbsp;&nbsp;&nbsp;&nbsp;&nbsp;&nbsp;&nbsp;&nbsp;&nbsp;&nbsp;1&nbsp;&nbsp;&nbsp;&nbsp;&nbsp;&nbsp;&nbsp;&nbsp;&nbsp;&nbsp;&nbsp;1  \n",
    "\n",
    "Usually, *argmax* function will be used, to adapt this to the multi-label case, we simply use *round*, that will turn the probabilities into 0 and 1. Then compare with the true label vector and, maybe, count the true labels, count the positive true labels etc.\n",
    "\n",
    "Sigmoid out: [0.21, 0.89, 0.45] => Apply *round*<br>\n",
    "Prediction: [0,1,0]<br>\n",
    "True labels: [0,1,1]<br>\n",
    "Number correct: 2 (First and second label)<br>\n",
    "\n",
    "\n",
    "*Importante note: The final prediction depends on the round behaviour. round function default behaviour is just round to the nearest integer, but it could be used any other method, like set a threshold. This could be understood as a new hyperparameter for the model, and this is not a good thing* \n",
    "\n",
    "### Summary\n",
    "\n",
    "A **single-layer** 'not deep' model with **Sigmoid function** and **Sigmoid Cross Entropy** as **loss** function. Also **Gradient Descent** will be used as **optimizer**, for the sake of simplicity.\n",
    "\n",
    "### Future Work\n",
    "\n",
    "Well, everything, this is just a test\n",
    "\n",
    "1. Make it deep\n",
    "2. Different type of activation functions in hidden layers (but always sigmoid as last!)\n",
    "3. Dropout layers\n",
    "4. Tunning the loss function\n",
    "5. Different optimizers\n",
    "- ...\n",
    "<br>\n",
    "\n",
    "Almost everything that could be done on any Deep Learning model\n",
    "\n",
    "\n"
   ]
  },
  {
   "cell_type": "markdown",
   "metadata": {},
   "source": [
    "### Placeholders"
   ]
  },
  {
   "cell_type": "code",
   "execution_count": 4,
   "metadata": {},
   "outputs": [],
   "source": [
    "data_ph = tf.placeholder(dtype=tf.float32,shape=[None,num_features],name='data') #[batch_size x num_features]\n",
    "label_ph = tf.placeholder(dtype=tf.float32,shape=[None,num_classes],name='labels') #[batch_size x num_classes]"
   ]
  },
  {
   "cell_type": "markdown",
   "metadata": {},
   "source": [
    "### Core\n",
    "\n",
    "Weight and bias and the fully 'Sigmoid' connected layer"
   ]
  },
  {
   "cell_type": "code",
   "execution_count": 24,
   "metadata": {},
   "outputs": [],
   "source": [
    "W = tf.Variable(dtype=tf.float32,initial_value=tf.truncated_normal(shape=[num_features,num_classes]))\n",
    "b = tf.Variable(dtype=tf.float32,initial_value=tf.constant(0.1,shape=[num_classes]))\n",
    "\n",
    "fc_sig = tf.nn.sigmoid(tf.matmul(data_ph,W) + b)"
   ]
  },
  {
   "cell_type": "markdown",
   "metadata": {},
   "source": [
    "### Evaluation metrics\n",
    "\n",
    "Multi-label ready"
   ]
  },
  {
   "cell_type": "code",
   "execution_count": 6,
   "metadata": {},
   "outputs": [],
   "source": [
    "pred = tf.round(fc_sig) #Almost a hyperparam...\n",
    "\n",
    "#The list containin the raw predictions. I.e: [[False,False,True,...,True]]\n",
    "#False : Not well predicted\n",
    "#True: Well predicted\n",
    "correct_prediction_raw = tf.equal(pred, label_ph)\n",
    "\n",
    "#Count non-zero to count 'True', in other words, correct predicted labels\n",
    "num_correct_prediction = tf.count_nonzero(tf.equal(pred, label_ph)) \n",
    "\n",
    "#Simple acc\n",
    "basic_acc = tf.divide(num_correct_prediction,num_classes)"
   ]
  },
  {
   "cell_type": "markdown",
   "metadata": {},
   "source": [
    "### Loss functions & Optimizer"
   ]
  },
  {
   "cell_type": "code",
   "execution_count": 7,
   "metadata": {
    "collapsed": true
   },
   "outputs": [],
   "source": [
    "loss = tf.nn.sigmoid_cross_entropy_with_logits(labels = label_ph, logits=fc_sig)\n",
    "optimizer = tf.train.GradientDescentOptimizer(learning_rate).minimize(loss)"
   ]
  },
  {
   "cell_type": "markdown",
   "metadata": {},
   "source": [
    "## Test\n",
    "\n",
    "Some testing functions"
   ]
  },
  {
   "cell_type": "code",
   "execution_count": 8,
   "metadata": {},
   "outputs": [],
   "source": [
    "def acc_test_n_observation(session,n=100):\n",
    "    '''\n",
    "    Returns the average accuracy on n (default 100) train observations\n",
    "    '''\n",
    "    acc_list = []\n",
    "    for _ in range(n):\n",
    "        test_x,test_y = get_random_example_with_labels()            \n",
    "        _acc = sess.run(basic_acc,feed_dict={data_ph : test_x, label_ph : test_y})\n",
    "        acc_list.append(_acc)\n",
    "        \n",
    "    return np.average(acc_list)"
   ]
  },
  {
   "cell_type": "markdown",
   "metadata": {},
   "source": [
    "## Train"
   ]
  },
  {
   "cell_type": "code",
   "execution_count": 20,
   "metadata": {},
   "outputs": [
    {
     "name": "stdout",
     "output_type": "stream",
     "text": [
      "At epoch: 0 - Av.Loss: 0.834 - Delta: 0.000000\n",
      "Random prediction:\n",
      "Predicted labels: [[1 0 1 1 0 0 1 1 1 1 1 0 1 1]]\n",
      "Real labels:      [[0 0 0 1 1 0 0 0 0 0 0 0 0 0]]\n",
      "Correct labels:   4\n",
      "Acc:              0.286\n",
      "\n",
      "At epoch: 100 - Av.Loss: 0.825 - Delta: 0.008620\n",
      "Random prediction:\n",
      "Predicted labels: [[0 0 0 1 0 0 0 0 1 0 1 1 1 1]]\n",
      "Real labels:      [[1 1 0 0 0 0 0 0 0 0 0 0 0 0]]\n",
      "Correct labels:   6\n",
      "Acc:              0.429\n",
      "\n",
      "At epoch: 200 - Av.Loss: 0.809 - Delta: 0.016454\n",
      "Random prediction:\n",
      "Predicted labels: [[1 0 0 0 0 0 1 1 1 0 0 1 1 0]]\n",
      "Real labels:      [[0 0 0 1 1 0 0 0 0 0 0 1 1 0]]\n",
      "Correct labels:   8\n",
      "Acc:              0.571\n",
      "\n",
      "At epoch: 300 - Av.Loss: 0.793 - Delta: 0.015145\n",
      "Random prediction:\n",
      "Predicted labels: [[0 0 0 0 0 0 0 0 0 0 0 0 1 0]]\n",
      "Real labels:      [[0 1 1 0 0 0 0 0 0 0 0 1 1 0]]\n",
      "Correct labels:   11\n",
      "Acc:              0.786\n",
      "\n",
      "At epoch: 400 - Av.Loss: 0.780 - Delta: 0.013520\n",
      "Random prediction:\n",
      "Predicted labels: [[1 1 1 0 1 1 0 0 0 0 0 1 1 0]]\n",
      "Real labels:      [[1 1 1 1 0 0 0 1 1 0 0 1 1 0]]\n",
      "Correct labels:   9\n",
      "Acc:              0.643\n",
      "\n",
      "At epoch: 500 - Av.Loss: 0.768 - Delta: 0.011816\n",
      "Random prediction:\n",
      "Predicted labels: [[1 0 0 0 0 0 0 0 1 0 0 1 0 0]]\n",
      "Real labels:      [[1 0 0 0 0 0 0 0 0 0 0 1 1 0]]\n",
      "Correct labels:   12\n",
      "Acc:              0.857\n",
      "\n",
      "At epoch: 600 - Av.Loss: 0.758 - Delta: 0.010193\n",
      "Random prediction:\n",
      "Predicted labels: [[0 0 0 1 1 0 0 0 0 0 0 1 1 0]]\n",
      "Real labels:      [[0 1 1 0 0 0 0 0 1 1 0 1 1 0]]\n",
      "Correct labels:   8\n",
      "Acc:              0.571\n",
      "\n",
      "At epoch: 700 - Av.Loss: 0.749 - Delta: 0.008737\n",
      "Random prediction:\n",
      "Predicted labels: [[0 0 0 0 0 0 0 0 0 0 0 1 0 0]]\n",
      "Real labels:      [[0 0 0 0 0 0 1 1 0 0 0 1 1 0]]\n",
      "Correct labels:   11\n",
      "Acc:              0.786\n",
      "\n",
      "At epoch: 800 - Av.Loss: 0.742 - Delta: 0.007476\n",
      "Random prediction:\n",
      "Predicted labels: [[0 0 0 0 1 0 0 0 0 0 0 1 1 0]]\n",
      "Real labels:      [[0 0 1 1 0 0 0 0 0 0 0 1 1 0]]\n",
      "Correct labels:   11\n",
      "Acc:              0.786\n",
      "\n",
      "At epoch: 900 - Av.Loss: 0.735 - Delta: 0.006406\n",
      "Random prediction:\n",
      "Predicted labels: [[0 0 0 0 0 0 0 0 0 0 0 1 1 0]]\n",
      "Real labels:      [[0 0 1 1 0 0 0 0 0 0 0 0 0 1]]\n",
      "Correct labels:   9\n",
      "Acc:              0.643\n",
      "\n"
     ]
    }
   ],
   "source": [
    "num_epochs = 1000\n",
    "\n",
    "display_freq = num_epochs//10\n",
    "\n",
    "loss_list_av = []\n",
    "loss_list_aux = []\n",
    "loss_list_batches = []\n",
    "\n",
    "acc_list = []\n",
    "\n",
    "with tf.Session() as sess:\n",
    "    tf.global_variables_initializer().run()\n",
    "    \n",
    "    for epoch in range(num_epochs):\n",
    "        \n",
    "        for batch_idx in range(num_batches):  \n",
    "            offset = (batch_idx * batch_size) % (X.shape[0] - batch_size)\n",
    "            \n",
    "            batchX = X[offset:(offset + batch_size), :]\n",
    "            batchY = Y[offset:(offset + batch_size), :]\n",
    "            \n",
    "            feed = {data_ph : batchX, label_ph : batchY}\n",
    "            \n",
    "            _, _loss = sess.run([optimizer,loss],feed_dict = feed)\n",
    "            loss_list_aux.append(_loss)\n",
    "        \n",
    "        loss_list_batches.append(np.average(loss_list_aux[-num_batches:len(loss_list_aux)]))\n",
    "                        \n",
    "        if(epoch % display_freq == 0):\n",
    "            #Average loss \n",
    "            loss_av = np.average(loss_list_aux)\n",
    "            loss_list_aux = []\n",
    "            loss_list_av.append(loss_av)\n",
    "            \n",
    "            #Test on n predictions\n",
    "            av_acc = acc_test_n_observation(sess,100)\n",
    "            acc_list.append(av_acc)\n",
    "            \n",
    "            #Make a prediction\n",
    "            test_obs,test_label = get_random_example_with_labels()\n",
    "            feed = {data_ph : test_obs, label_ph : test_label}\n",
    "            \n",
    "            _pred,_num_corrrect,_acc = sess.run([pred,num_correct_prediction,basic_acc],feed_dict=feed)\n",
    "            \n",
    "            if(len(loss_list_av) > 1):\n",
    "                deltaLoss = loss_list_av[-2] - loss_av\n",
    "            else: \n",
    "                deltaLoss = 0\n",
    "            print('At epoch: %d - Av.Loss: %.3f - Delta: %.6f' %(epoch,loss_av,deltaLoss))\n",
    "            print('Random prediction:')\n",
    "            print('Predicted labels: %s\\nReal labels:      %s' % (np.array(_pred,dtype=int),test_label))\n",
    "            print('Correct labels:   %d' % _num_corrrect)\n",
    "            print('Acc:              %.3f' % _acc)\n",
    "            print()"
   ]
  },
  {
   "cell_type": "code",
   "execution_count": 21,
   "metadata": {},
   "outputs": [
    {
     "data": {
      "image/png": "[encoded data removed]",
      "text/plain": [
       "<matplotlib.figure.Figure at 0x16b056269e8>"
      ]
     },
     "metadata": {},
     "output_type": "display_data"
    }
   ],
   "source": [
    "plt.title('Loss')\n",
    "plt.scatter(x=np.arange(0,len(loss_list_batches)),y=loss_list_batches)\n",
    "plt.xlabel('epochs')\n",
    "plt.ylabel('loss')\n",
    "plt.show();"
   ]
  },
  {
   "cell_type": "code",
   "execution_count": 22,
   "metadata": {},
   "outputs": [
    {
     "data": {
      "image/png": "[encoded data removed]",
      "text/plain": [
       "<matplotlib.figure.Figure at 0x16b07cbf780>"
      ]
     },
     "metadata": {},
     "output_type": "display_data"
    }
   ],
   "source": [
    "plt.title('Av.Loss')\n",
    "plt.scatter(x=np.arange(0,len(loss_list_av)),y=loss_list_av)\n",
    "plt.xlabel('epochs')\n",
    "plt.ylabel('loss')\n",
    "plt.show();"
   ]
  },
  {
   "cell_type": "code",
   "execution_count": 23,
   "metadata": {},
   "outputs": [
    {
     "data": {
      "image/png": "[encoded data removed]",
      "text/plain": [
       "<matplotlib.figure.Figure at 0x16b06c689b0>"
      ]
     },
     "metadata": {},
     "output_type": "display_data"
    }
   ],
   "source": [
    "plt.title('Av. Accuracy')\n",
    "plt.bar(left=np.arange(0,len(acc_list)),height=acc_list)\n",
    "plt.ylim(0.4,1)\n",
    "plt.xlabel('epochs')\n",
    "plt.ylabel('accuracy')\n",
    "plt.show();"
   ]
  }
 ],
 "metadata": {
  "kernelspec": {
   "display_name": "Python 3",
   "language": "python",
   "name": "python3"
  },
  "language_info": {
   "codemirror_mode": {
    "name": "ipython",
    "version": 3
   },
   "file_extension": ".py",
   "mimetype": "text/x-python",
   "name": "python",
   "nbconvert_exporter": "python",
   "pygments_lexer": "ipython3",
   "version": "3.5.3"
  }
 },
 "nbformat": 4,
 "nbformat_minor": 2
}
