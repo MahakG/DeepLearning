{
 "cells": [
  {
   "cell_type": "code",
   "execution_count": 1,
   "metadata": {
    "collapsed": true
   },
   "outputs": [],
   "source": [
    "import tensorflow as tf\n",
    "import numpy as np\n",
    "import pandas as pd"
   ]
  },
  {
   "cell_type": "markdown",
   "metadata": {},
   "source": [
    "## Read & Prepare Data\n",
    "\n",
    "And transform it to BR-Like form"
   ]
  },
  {
   "cell_type": "code",
   "execution_count": 2,
   "metadata": {},
   "outputs": [],
   "source": [
    "def get_num_classes(df):\n",
    "    num_features = 0\n",
    "    num_classes = 0\n",
    "    for what_type in df.dtypes:\n",
    "        if(what_type == 'uint8'):\n",
    "            num_classes += 1\n",
    "        else:\n",
    "            num_features += 1\n",
    "    return num_features,num_classes\n",
    "\n",
    "def extract_dataframes_for_br(df):\n",
    "    dataframes = []\n",
    "\n",
    "    for class_idx in range(num_classes):\n",
    "\n",
    "        auxDf = df.iloc[:,0:num_features].join(df.iloc[:,num_features+class_idx])\n",
    "        dataframes.append(auxDf)\n",
    "    return dataframes"
   ]
  },
  {
   "cell_type": "code",
   "execution_count": 3,
   "metadata": {},
   "outputs": [
    {
     "data": {
      "text/html": [
       "<div>\n",
       "<style>\n",
       "    .dataframe thead tr:only-child th {\n",
       "        text-align: right;\n",
       "    }\n",
       "\n",
       "    .dataframe thead th {\n",
       "        text-align: left;\n",
       "    }\n",
       "\n",
       "    .dataframe tbody tr th {\n",
       "        vertical-align: top;\n",
       "    }\n",
       "</style>\n",
       "<table border=\"1\" class=\"dataframe\">\n",
       "  <thead>\n",
       "    <tr style=\"text-align: right;\">\n",
       "      <th></th>\n",
       "      <th>sepal_length</th>\n",
       "      <th>sepal_width</th>\n",
       "      <th>petal_length</th>\n",
       "      <th>petal_width</th>\n",
       "      <th>Iris-setosa</th>\n",
       "      <th>Iris-versicolor</th>\n",
       "      <th>Iris-virginica</th>\n",
       "    </tr>\n",
       "  </thead>\n",
       "  <tbody>\n",
       "    <tr>\n",
       "      <th>122</th>\n",
       "      <td>0.515741</td>\n",
       "      <td>-0.105833</td>\n",
       "      <td>0.498531</td>\n",
       "      <td>0.333889</td>\n",
       "      <td>0</td>\n",
       "      <td>0</td>\n",
       "      <td>1</td>\n",
       "    </tr>\n",
       "    <tr>\n",
       "      <th>63</th>\n",
       "      <td>0.071296</td>\n",
       "      <td>-0.064167</td>\n",
       "      <td>0.159548</td>\n",
       "      <td>0.083889</td>\n",
       "      <td>0</td>\n",
       "      <td>1</td>\n",
       "      <td>0</td>\n",
       "    </tr>\n",
       "    <tr>\n",
       "      <th>76</th>\n",
       "      <td>0.265741</td>\n",
       "      <td>-0.105833</td>\n",
       "      <td>0.176497</td>\n",
       "      <td>0.083889</td>\n",
       "      <td>0</td>\n",
       "      <td>1</td>\n",
       "      <td>0</td>\n",
       "    </tr>\n",
       "  </tbody>\n",
       "</table>\n",
       "</div>"
      ],
      "text/plain": [
       "     sepal_length  sepal_width  petal_length  petal_width  Iris-setosa  \\\n",
       "122      0.515741    -0.105833      0.498531     0.333889            0   \n",
       "63       0.071296    -0.064167      0.159548     0.083889            0   \n",
       "76       0.265741    -0.105833      0.176497     0.083889            0   \n",
       "\n",
       "     Iris-versicolor  Iris-virginica  \n",
       "122                0               1  \n",
       "63                 1               0  \n",
       "76                 1               0  "
      ]
     },
     "execution_count": 3,
     "metadata": {},
     "output_type": "execute_result"
    }
   ],
   "source": [
    "df = pd.read_csv('iris_norm.csv')\n",
    "class_one_hot = pd.get_dummies(df['class'])\n",
    "df = df.drop(labels=['class'],axis=1)\n",
    "df = df.join(class_one_hot)      \n",
    "num_features,num_classes = get_num_classes(df)\n",
    "#Randomize\n",
    "df = df.sample(frac=1)\n",
    "df.head(3)"
   ]
  },
  {
   "cell_type": "code",
   "execution_count": 4,
   "metadata": {},
   "outputs": [
    {
     "name": "stdout",
     "output_type": "stream",
     "text": [
      "Original dataset has generated 3 binary datasets with 4 features because of the 3 classes\n"
     ]
    }
   ],
   "source": [
    "dataframes = extract_dataframes_for_br(df)\n",
    "print('Original dataset has generated %d binary datasets with %d features because of the %d classes' \n",
    "      %(len(dataframes),num_features,num_classes))"
   ]
  },
  {
   "cell_type": "markdown",
   "metadata": {},
   "source": [
    "## Model"
   ]
  },
  {
   "cell_type": "markdown",
   "metadata": {},
   "source": [
    "### Hyperparams"
   ]
  },
  {
   "cell_type": "code",
   "execution_count": 5,
   "metadata": {},
   "outputs": [
    {
     "name": "stdout",
     "output_type": "stream",
     "text": [
      "Current config: 15 batches of 10 observations each one\n"
     ]
    }
   ],
   "source": [
    "learning_rate = 0.0001\n",
    "batch_size = 10\n",
    "num_observations = len(df.index)\n",
    "num_batches = num_observations//batch_size\n",
    "display_step = 1\n",
    "\n",
    "binary = 2\n",
    "\n",
    "print('Current config: %d batches of %d observations each one' % (num_batches,batch_size))"
   ]
  },
  {
   "cell_type": "markdown",
   "metadata": {},
   "source": [
    "### Placeholders"
   ]
  },
  {
   "cell_type": "code",
   "execution_count": 6,
   "metadata": {},
   "outputs": [],
   "source": [
    "x = tf.placeholder(tf.float32,[None,num_features],name='x')\n",
    "y = tf.placeholder(tf.int64,[None],name='y')"
   ]
  },
  {
   "cell_type": "markdown",
   "metadata": {},
   "source": [
    "### Core"
   ]
  },
  {
   "cell_type": "code",
   "execution_count": 7,
   "metadata": {},
   "outputs": [],
   "source": [
    "W = tf.Variable(tf.truncated_normal([num_features,binary]),dtype=tf.float32)\n",
    "b = tf.Variable(tf.zeros([binary]),dtype=tf.float32)"
   ]
  },
  {
   "cell_type": "code",
   "execution_count": 8,
   "metadata": {},
   "outputs": [],
   "source": [
    "logits = tf.matmul(x,W) + b"
   ]
  },
  {
   "cell_type": "markdown",
   "metadata": {},
   "source": [
    "#### Cost & Optimizer"
   ]
  },
  {
   "cell_type": "code",
   "execution_count": 9,
   "metadata": {},
   "outputs": [],
   "source": [
    "cost = tf.nn.sparse_softmax_cross_entropy_with_logits(labels=y,logits=logits)\n",
    "\n",
    "optimizer = tf.train.AdamOptimizer(learning_rate).minimize(cost)"
   ]
  },
  {
   "cell_type": "markdown",
   "metadata": {},
   "source": [
    "### Test model"
   ]
  },
  {
   "cell_type": "markdown",
   "metadata": {},
   "source": [
    "#### General"
   ]
  },
  {
   "cell_type": "code",
   "execution_count": 10,
   "metadata": {},
   "outputs": [],
   "source": [
    "correct_prediction = tf.equal(tf.argmax(logits, 1), y)\n",
    "\n",
    "num_correct_prediction = tf.count_nonzero(correct_prediction)\n",
    "\n",
    "general_acc = tf.divide(num_correct_prediction,tf.cast(tf.size(y),dtype=tf.int64))"
   ]
  },
  {
   "cell_type": "markdown",
   "metadata": {},
   "source": [
    "#### Positive class"
   ]
  },
  {
   "cell_type": "code",
   "execution_count": 11,
   "metadata": {},
   "outputs": [],
   "source": [
    "#Add pred and labels values together into another tensor\n",
    "adds = tf.add(x=tf.argmax(logits,1),y=y)\n",
    "#The number of '2' values is the number of correct predictions for the positive (minoritary) class\n",
    "positive_correct = tf.equal(adds, 2)\n",
    "\n",
    "#Count non-zero to count 'True', in other words, correct positive class predicted labels\n",
    "num_positive_correct = tf.count_nonzero(positive_correct)\n",
    "\n",
    "#Positive class acc\n",
    "positive_acc = tf.divide(num_positive_correct,tf.count_nonzero(y))"
   ]
  },
  {
   "cell_type": "markdown",
   "metadata": {},
   "source": [
    "#### Prepare data for train"
   ]
  },
  {
   "cell_type": "code",
   "execution_count": 12,
   "metadata": {},
   "outputs": [],
   "source": [
    "x_data = dataframes[1].iloc[:,:-1].as_matrix()\n",
    "y_data = dataframes[1].iloc[:,-1:].as_matrix().reshape(-1)"
   ]
  },
  {
   "cell_type": "code",
   "execution_count": 13,
   "metadata": {},
   "outputs": [
    {
     "data": {
      "text/plain": [
       "(array([ 0.51574074, -0.10583333,  0.49853107,  0.33388889]), 0)"
      ]
     },
     "execution_count": 13,
     "metadata": {},
     "output_type": "execute_result"
    }
   ],
   "source": [
    "x_data[0,:],y_data[0]"
   ]
  },
  {
   "cell_type": "markdown",
   "metadata": {},
   "source": [
    "### Train"
   ]
  },
  {
   "cell_type": "code",
   "execution_count": 14,
   "metadata": {},
   "outputs": [
    {
     "name": "stdout",
     "output_type": "stream",
     "text": [
      "At epoch 0 - Loss: 0.759\n",
      "At epoch 1000 - Loss: 0.772\n",
      "At epoch 2000 - Loss: 0.742\n",
      "At epoch 3000 - Loss: 0.721\n",
      "At epoch 4000 - Loss: 0.702\n",
      "At epoch 5000 - Loss: 0.685\n",
      "At epoch 6000 - Loss: 0.668\n",
      "At epoch 7000 - Loss: 0.653\n",
      "At epoch 8000 - Loss: 0.641\n",
      "At epoch 9000 - Loss: 0.631\n",
      "Train finished\n",
      "Final unfair evaluation positive class accuracy: 0.46\n"
     ]
    }
   ],
   "source": [
    "num_epochs = 10000\n",
    "display_freq = num_epochs//10\n",
    "\n",
    "loss_list = []\n",
    "loss_list_batch = []\n",
    "\n",
    "positive_acc_list = []\n",
    "gen_acc_list = []\n",
    "\n",
    "# Launch the graph\n",
    "with tf.Session() as sess:\n",
    "    tf.global_variables_initializer().run()\n",
    "    \n",
    "    \n",
    "    \n",
    "    for step in range(num_epochs):\n",
    "\n",
    "    \n",
    "        for batch_idx in range(num_batches):\n",
    "            batchx = x_data[batch_idx*batch_size:batch_idx*batch_size+batch_size,:]\n",
    "            batchy = y_data[batch_idx*batch_size:batch_idx*batch_size+batch_size]      \n",
    "            \n",
    "            feed = {x: batchx, y: batchy}\n",
    "\n",
    "            _,_loss,_softmax,_y = sess.run([optimizer,cost,logits,y], feed_dict=feed)\n",
    "            \n",
    "            loss_list_batch.append(np.average(_loss)) #Store av. batch loss\n",
    "            \n",
    "        #Add the av. loss of the batch to the loss list\n",
    "        loss_list.append(np.average(loss_list_batch))\n",
    "        loss_list_batch = []\n",
    "        \n",
    "        if (step % display_freq == 0):\n",
    "            _positive_acc,_gen_acc = sess.run([positive_acc,general_acc],feed_dict={x : x_data, y : y_data})\n",
    "            positive_acc_list.append(_positive_acc)\n",
    "            gen_acc_list.append(_gen_acc)\n",
    "            \n",
    "            print('At epoch %d - Loss: %.3f' %(step,np.average(_loss)))\n",
    "            \n",
    "    \n",
    "    print(\"Train finished\")\n",
    "    feed_test = {x : x_data, y : y_data}\n",
    "    _y,_softmax,_softargmax,_positive_acc,_gen_acc = sess.run([y,logits,tf.argmax(logits,1),positive_acc,general_acc],feed_dict=feed_test)\n",
    "    print('Final unfair evaluation positive class accuracy: %.2f' % _positive_acc)\n",
    "          \n",
    "\n",
    "    "
   ]
  },
  {
   "cell_type": "code",
   "execution_count": 19,
   "metadata": {},
   "outputs": [
    {
     "data": {
      "image/png": "[encoded data removed]",
      "text/plain": [
       "<matplotlib.figure.Figure at 0x1ad182f2b00>"
      ]
     },
     "metadata": {},
     "output_type": "display_data"
    }
   ],
   "source": [
    "import matplotlib.pyplot as plt\n",
    "%matplotlib inline\n",
    "\n",
    "plt.title('Loss')\n",
    "plt.scatter(x=np.arange(0,len(loss_list)),y=loss_list)\n",
    "plt.xlabel('epochs')\n",
    "plt.ylabel('loss')\n",
    "plt.show();"
   ]
  },
  {
   "cell_type": "code",
   "execution_count": 20,
   "metadata": {},
   "outputs": [
    {
     "data": {
      "image/png": "[encoded data removed]",
      "text/plain": [
       "<matplotlib.figure.Figure at 0x1ad185b75c0>"
      ]
     },
     "metadata": {},
     "output_type": "display_data"
    }
   ],
   "source": [
    "fig,axes = plt.subplots(1,2,figsize=(10,7))\n",
    "\n",
    "axes[0].set_title('Positive Acc.')\n",
    "axes[0].bar(left=np.arange(0,len(positive_acc_list)),height=positive_acc_list)\n",
    "axes[0].set_ylim(0,1)\n",
    "axes[0].set_xlabel('epochs')\n",
    "axes[0].set_ylabel('accuracy')\n",
    "\n",
    "axes[1].set_title('General Acc.')\n",
    "axes[1].bar(left=np.arange(0,len(gen_acc_list)),height=gen_acc_list)\n",
    "axes[1].set_ylim(0,1)\n",
    "axes[1].set_xlabel('epochs')\n",
    "axes[1].set_ylabel('accuracy')\n",
    "\n",
    "plt.show();"
   ]
  },
  {
   "cell_type": "code",
   "execution_count": 17,
   "metadata": {},
   "outputs": [
    {
     "data": {
      "text/plain": [
       "array([0, 1, 1, 1, 0, 0, 1, 0, 1, 0, 1, 1, 0, 0, 1, 1, 0, 1, 1, 0, 0, 0, 0,\n",
       "       0, 0, 0, 0, 0, 0, 0, 1, 0, 0, 1, 0, 1, 1, 0, 1, 0, 0, 1, 0, 0, 1, 0,\n",
       "       0, 1, 1, 0, 0, 1, 0, 0, 0, 0, 0, 1, 0, 0, 0, 0, 0, 0, 0, 0, 1, 1, 0,\n",
       "       0, 0, 1, 0, 0, 1, 0, 1, 0, 0, 0, 0, 0, 0, 0, 0, 1, 0, 0, 0, 0, 0, 1,\n",
       "       0, 0, 0, 0, 0, 0, 1, 0, 0, 1, 1, 0, 1, 0, 1, 0, 0, 1, 1, 0, 0, 0, 0,\n",
       "       0, 0, 1, 1, 1, 0, 0, 1, 0, 0, 0, 1, 0, 0, 0, 0, 0, 0, 0, 1, 0, 1, 1,\n",
       "       1, 0, 1, 0, 1, 0, 1, 0, 0, 0, 1, 1], dtype=int64)"
      ]
     },
     "execution_count": 17,
     "metadata": {},
     "output_type": "execute_result"
    }
   ],
   "source": [
    "_y"
   ]
  },
  {
   "cell_type": "code",
   "execution_count": 18,
   "metadata": {},
   "outputs": [
    {
     "data": {
      "text/plain": [
       "array([1, 0, 1, 0, 0, 0, 1, 0, 0, 1, 0, 0, 0, 0, 1, 0, 0, 0, 0, 0, 0, 0, 0,\n",
       "       0, 0, 0, 0, 0, 0, 0, 0, 0, 0, 0, 0, 1, 0, 0, 0, 1, 0, 0, 1, 0, 0, 0,\n",
       "       0, 1, 0, 0, 0, 0, 0, 0, 0, 0, 0, 0, 1, 0, 0, 0, 0, 1, 0, 1, 0, 0, 0,\n",
       "       0, 1, 0, 0, 0, 1, 0, 1, 0, 1, 0, 0, 0, 0, 0, 0, 0, 0, 0, 0, 0, 0, 0,\n",
       "       0, 0, 0, 0, 0, 0, 1, 0, 0, 1, 1, 0, 1, 0, 1, 0, 0, 1, 0, 0, 0, 0, 0,\n",
       "       0, 0, 1, 1, 1, 0, 0, 1, 1, 0, 0, 1, 0, 1, 0, 0, 0, 0, 0, 1, 0, 0, 0,\n",
       "       1, 1, 1, 0, 0, 0, 0, 0, 0, 1, 1, 1], dtype=int64)"
      ]
     },
     "execution_count": 18,
     "metadata": {},
     "output_type": "execute_result"
    }
   ],
   "source": [
    "_softargmax"
   ]
  },
  {
   "cell_type": "code",
   "execution_count": null,
   "metadata": {
    "collapsed": true
   },
   "outputs": [],
   "source": []
  }
 ],
 "metadata": {
  "kernelspec": {
   "display_name": "Python 3",
   "language": "python",
   "name": "python3"
  },
  "language_info": {
   "codemirror_mode": {
    "name": "ipython",
    "version": 3
   },
   "file_extension": ".py",
   "mimetype": "text/x-python",
   "name": "python",
   "nbconvert_exporter": "python",
   "pygments_lexer": "ipython3",
   "version": "3.5.3"
  }
 },
 "nbformat": 4,
 "nbformat_minor": 2
}
