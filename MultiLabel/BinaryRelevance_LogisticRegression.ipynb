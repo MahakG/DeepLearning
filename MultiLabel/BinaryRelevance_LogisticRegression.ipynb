{
 "cells": [
  {
   "cell_type": "code",
   "execution_count": 1,
   "metadata": {
    "collapsed": true
   },
   "outputs": [],
   "source": [
    "import tensorflow as tf\n",
    "import numpy as np\n",
    "import pandas as pd"
   ]
  },
  {
   "cell_type": "markdown",
   "metadata": {},
   "source": [
    "## Read & Prepare Data\n",
    "\n",
    "And transform it to BR-Like form"
   ]
  },
  {
   "cell_type": "code",
   "execution_count": 3,
   "metadata": {
    "collapsed": true
   },
   "outputs": [],
   "source": [
    "FILENAME = 'doc2vec_notesDiagnoses_OneHot100.csv'"
   ]
  },
  {
   "cell_type": "code",
   "execution_count": 14,
   "metadata": {
    "collapsed": true
   },
   "outputs": [],
   "source": [
    "def get_num_classes(df):\n",
    "    num_features = 0\n",
    "    num_classes = 0\n",
    "    for what_type in df.dtypes:\n",
    "        if(what_type == 'uint8' or what_type == 'int64'):\n",
    "            num_classes += 1\n",
    "        else:\n",
    "            num_features += 1\n",
    "    return num_features,num_classes\n",
    "\n",
    "def extract_dataframes_for_br(df):\n",
    "    dataframes = []\n",
    "\n",
    "    for class_idx in range(num_classes):\n",
    "\n",
    "        auxDf = df.iloc[:,0:num_features].join(df.iloc[:,num_features+class_idx])\n",
    "        dataframes.append(auxDf)\n",
    "    return dataframes"
   ]
  },
  {
   "cell_type": "code",
   "execution_count": 15,
   "metadata": {},
   "outputs": [
    {
     "name": "stdout",
     "output_type": "stream",
     "text": [
      "<class 'pandas.core.frame.DataFrame'>\n",
      "Int64Index: 100 entries, 58 to 60\n",
      "Columns: 835 entries, 0 to E8783\n",
      "dtypes: float64(300), int64(535)\n",
      "memory usage: 653.1 KB\n"
     ]
    },
    {
     "data": {
      "text/html": [
       "<div>\n",
       "<style>\n",
       "    .dataframe thead tr:only-child th {\n",
       "        text-align: right;\n",
       "    }\n",
       "\n",
       "    .dataframe thead th {\n",
       "        text-align: left;\n",
       "    }\n",
       "\n",
       "    .dataframe tbody tr th {\n",
       "        vertical-align: top;\n",
       "    }\n",
       "</style>\n",
       "<table border=\"1\" class=\"dataframe\">\n",
       "  <thead>\n",
       "    <tr style=\"text-align: right;\">\n",
       "      <th></th>\n",
       "      <th>0</th>\n",
       "      <th>1</th>\n",
       "      <th>2</th>\n",
       "      <th>3</th>\n",
       "      <th>4</th>\n",
       "      <th>5</th>\n",
       "      <th>6</th>\n",
       "      <th>7</th>\n",
       "      <th>8</th>\n",
       "      <th>9</th>\n",
       "      <th>...</th>\n",
       "      <th>3373</th>\n",
       "      <th>4160</th>\n",
       "      <th>34830</th>\n",
       "      <th>78702</th>\n",
       "      <th>78552</th>\n",
       "      <th>3963</th>\n",
       "      <th>2762</th>\n",
       "      <th>34690</th>\n",
       "      <th>2731</th>\n",
       "      <th>E8783</th>\n",
       "    </tr>\n",
       "  </thead>\n",
       "  <tbody>\n",
       "    <tr>\n",
       "      <th>58</th>\n",
       "      <td>0.066613</td>\n",
       "      <td>-0.042797</td>\n",
       "      <td>0.008524</td>\n",
       "      <td>0.050315</td>\n",
       "      <td>-0.067958</td>\n",
       "      <td>-0.023595</td>\n",
       "      <td>0.063397</td>\n",
       "      <td>0.008572</td>\n",
       "      <td>0.033061</td>\n",
       "      <td>-0.019007</td>\n",
       "      <td>...</td>\n",
       "      <td>0</td>\n",
       "      <td>0</td>\n",
       "      <td>0</td>\n",
       "      <td>0</td>\n",
       "      <td>0</td>\n",
       "      <td>0</td>\n",
       "      <td>0</td>\n",
       "      <td>0</td>\n",
       "      <td>0</td>\n",
       "      <td>0</td>\n",
       "    </tr>\n",
       "  </tbody>\n",
       "</table>\n",
       "<p>1 rows × 835 columns</p>\n",
       "</div>"
      ],
      "text/plain": [
       "           0         1         2         3         4         5         6  \\\n",
       "58  0.066613 -0.042797  0.008524  0.050315 -0.067958 -0.023595  0.063397   \n",
       "\n",
       "           7         8         9  ...    3373  4160  34830  78702  78552  \\\n",
       "58  0.008572  0.033061 -0.019007  ...       0     0      0      0      0   \n",
       "\n",
       "    3963  2762  34690  2731  E8783  \n",
       "58     0     0      0     0      0  \n",
       "\n",
       "[1 rows x 835 columns]"
      ]
     },
     "execution_count": 15,
     "metadata": {},
     "output_type": "execute_result"
    }
   ],
   "source": [
    "df = pd.read_csv(FILENAME)   \n",
    "num_features,num_classes = get_num_classes(df)\n",
    "#Randomize\n",
    "df = df.sample(frac=1)\n",
    "df.info()\n",
    "df.head(1)"
   ]
  },
  {
   "cell_type": "code",
   "execution_count": 16,
   "metadata": {},
   "outputs": [
    {
     "name": "stdout",
     "output_type": "stream",
     "text": [
      "Original dataset has generated 535 binary datasets with 300 features because of the 535 classes\n"
     ]
    }
   ],
   "source": [
    "dataframes = extract_dataframes_for_br(df)\n",
    "print('Original dataset has generated %d binary datasets with %d features because of the %d classes' \n",
    "      %(len(dataframes),num_features,num_classes))"
   ]
  },
  {
   "cell_type": "markdown",
   "metadata": {},
   "source": [
    "## Model"
   ]
  },
  {
   "cell_type": "markdown",
   "metadata": {},
   "source": [
    "### Hyperparams"
   ]
  },
  {
   "cell_type": "code",
   "execution_count": 17,
   "metadata": {},
   "outputs": [
    {
     "name": "stdout",
     "output_type": "stream",
     "text": [
      "Current config: 10 batches of 10 observations each one\n"
     ]
    }
   ],
   "source": [
    "learning_rate = 0.0001\n",
    "batch_size = 10\n",
    "num_observations = len(df.index)\n",
    "num_batches = num_observations//batch_size\n",
    "display_step = 1\n",
    "\n",
    "binary = 2\n",
    "\n",
    "print('Current config: %d batches of %d observations each one' % (num_batches,batch_size))"
   ]
  },
  {
   "cell_type": "markdown",
   "metadata": {},
   "source": [
    "### Placeholders"
   ]
  },
  {
   "cell_type": "code",
   "execution_count": 18,
   "metadata": {
    "collapsed": true
   },
   "outputs": [],
   "source": [
    "x = tf.placeholder(tf.float32,[None,num_features],name='x')\n",
    "y = tf.placeholder(tf.int64,[None],name='y')"
   ]
  },
  {
   "cell_type": "markdown",
   "metadata": {},
   "source": [
    "### Core"
   ]
  },
  {
   "cell_type": "code",
   "execution_count": 19,
   "metadata": {
    "collapsed": true
   },
   "outputs": [],
   "source": [
    "W = tf.Variable(tf.truncated_normal([num_features,binary]),dtype=tf.float32)\n",
    "b = tf.Variable(tf.zeros([binary]),dtype=tf.float32)"
   ]
  },
  {
   "cell_type": "code",
   "execution_count": 20,
   "metadata": {
    "collapsed": true
   },
   "outputs": [],
   "source": [
    "logits = tf.matmul(x,W) + b"
   ]
  },
  {
   "cell_type": "markdown",
   "metadata": {},
   "source": [
    "#### Cost & Optimizer"
   ]
  },
  {
   "cell_type": "code",
   "execution_count": 21,
   "metadata": {
    "collapsed": true
   },
   "outputs": [],
   "source": [
    "cost = tf.nn.sparse_softmax_cross_entropy_with_logits(labels=y,logits=logits)\n",
    "\n",
    "optimizer = tf.train.AdamOptimizer(learning_rate).minimize(cost)"
   ]
  },
  {
   "cell_type": "markdown",
   "metadata": {},
   "source": [
    "### Test model"
   ]
  },
  {
   "cell_type": "markdown",
   "metadata": {},
   "source": [
    "#### General"
   ]
  },
  {
   "cell_type": "code",
   "execution_count": 22,
   "metadata": {
    "collapsed": true
   },
   "outputs": [],
   "source": [
    "correct_prediction = tf.equal(tf.argmax(logits, 1), y)\n",
    "\n",
    "num_correct_prediction = tf.count_nonzero(correct_prediction)\n",
    "\n",
    "general_acc = tf.divide(num_correct_prediction,tf.cast(tf.size(y),dtype=tf.int64))"
   ]
  },
  {
   "cell_type": "markdown",
   "metadata": {},
   "source": [
    "#### Positive class"
   ]
  },
  {
   "cell_type": "code",
   "execution_count": 23,
   "metadata": {
    "collapsed": true
   },
   "outputs": [],
   "source": [
    "#Add pred and labels values together into another tensor\n",
    "adds = tf.add(x=tf.argmax(logits,1),y=y)\n",
    "#The number of '2' values is the number of correct predictions for the positive (minoritary) class\n",
    "positive_correct = tf.equal(adds, 2)\n",
    "\n",
    "#Count non-zero to count 'True', in other words, correct positive class predicted labels\n",
    "num_positive_correct = tf.count_nonzero(positive_correct)\n",
    "\n",
    "#Positive class acc\n",
    "positive_acc = tf.divide(num_positive_correct,tf.count_nonzero(y))"
   ]
  },
  {
   "cell_type": "markdown",
   "metadata": {},
   "source": [
    "#### Prepare data for train"
   ]
  },
  {
   "cell_type": "code",
   "execution_count": 25,
   "metadata": {
    "collapsed": true
   },
   "outputs": [],
   "source": [
    "x_data = dataframes[0].iloc[:,:-1].as_matrix()\n",
    "y_data = dataframes[0].iloc[:,-1:].as_matrix().reshape(-1)"
   ]
  },
  {
   "cell_type": "code",
   "execution_count": 26,
   "metadata": {},
   "outputs": [
    {
     "data": {
      "text/plain": [
       "(array([  6.66133194e-02,  -4.27968934e-02,   8.52365134e-03,\n",
       "          5.03150942e-02,  -6.79579254e-02,  -2.35952286e-02,\n",
       "          6.33965680e-02,   8.57160332e-03,   3.30608942e-02,\n",
       "         -1.90072299e-02,   8.93911637e-02,   3.83825214e-02,\n",
       "         -2.70095421e-02,   4.90236672e-02,   1.47340545e-01,\n",
       "          1.92904440e-03,  -8.72517717e-03,   5.55967817e-02,\n",
       "         -3.17076703e-02,  -3.81414689e-02,   5.83568547e-03,\n",
       "         -1.50927040e-02,   1.16285379e-01,   8.24728878e-02,\n",
       "         -1.01540023e-02,   2.26949644e-02,  -4.60975853e-02,\n",
       "          3.56762347e-02,  -3.43591758e-02,   1.22801696e-01,\n",
       "         -1.18407246e-01,   9.42559677e-02,   1.35329224e-01,\n",
       "         -7.44634516e-03,  -7.05220168e-02,   1.01508232e-02,\n",
       "          3.22558108e-02,  -1.61774594e-02,  -2.88023999e-02,\n",
       "          1.77554070e-02,   3.20974519e-02,   6.22752276e-02,\n",
       "         -1.23652815e-02,   4.31431708e-02,  -2.61289346e-02,\n",
       "         -9.94543380e-03,   3.64910760e-02,   2.04827292e-02,\n",
       "         -3.15807931e-02,   1.26665943e-01,   5.46026241e-02,\n",
       "          4.52300451e-02,  -7.20669723e-03,   1.48450566e-02,\n",
       "          6.20927118e-02,   1.57910356e-02,   6.12736902e-02,\n",
       "          6.87173383e-02,   6.62048140e-03,   1.07687571e-01,\n",
       "          5.54136136e-02,  -2.61201859e-02,  -2.71072900e-02,\n",
       "          3.30040659e-02,  -2.17253733e-02,   2.13613743e-02,\n",
       "          5.37745091e-04,  -1.72069882e-02,  -4.93136172e-02,\n",
       "          4.39756416e-05,  -3.31170067e-02,   9.20666644e-02,\n",
       "          3.69179263e-02,   1.01709725e-01,  -1.71107056e-02,\n",
       "          2.77296030e-02,   6.90546257e-03,  -2.78413741e-02,\n",
       "          6.16053307e-02,  -4.73280462e-02,  -5.16833058e-02,\n",
       "          3.54776091e-02,  -2.86929617e-02,   2.73981011e-02,\n",
       "          5.12917657e-02,   3.35004740e-02,  -2.21456818e-02,\n",
       "         -3.63901208e-02,  -7.74345854e-03,   5.19152403e-02,\n",
       "          3.76300518e-02,   1.67779799e-02,  -4.98352012e-03,\n",
       "          1.60827487e-02,   1.51002774e-02,   6.23551213e-02,\n",
       "         -1.98326311e-02,   2.75779724e-02,  -3.69481706e-02,\n",
       "         -7.23374962e-03,   2.21819386e-02,   7.85338867e-02,\n",
       "         -5.57669233e-02,  -2.14332900e-02,   1.17283747e-01,\n",
       "         -1.00397123e-02,   5.45678463e-02,  -2.80029946e-02,\n",
       "          5.29118550e-02,  -1.88027648e-01,  -1.13280860e-02,\n",
       "         -8.66534436e-02,   8.14655134e-02,   1.20303774e-01,\n",
       "         -8.42260959e-02,   5.56608586e-03,  -2.05487102e-02,\n",
       "         -1.20772635e-01,   3.09586420e-02,  -1.02712633e-01,\n",
       "          1.30280432e-01,   1.27128754e-02,   4.05769576e-02,\n",
       "          2.84246152e-02,  -1.07148887e-02,  -8.11440526e-02,\n",
       "          9.35121500e-02,   1.85388873e-03,   3.48047371e-02,\n",
       "         -1.93923905e-02,  -1.93985839e-02,   2.50054005e-02,\n",
       "          5.32435874e-02,  -4.95899783e-03,  -9.04057280e-03,\n",
       "          2.90964760e-02,  -3.65220059e-02,   1.31885159e-02,\n",
       "         -8.95080554e-02,   2.31313776e-02,   4.96208104e-02,\n",
       "         -4.57111296e-02,   2.10252382e-02,  -1.36241135e-02,\n",
       "         -1.51669859e-02,  -3.09095423e-02,   6.30849641e-02,\n",
       "          4.46034308e-02,   1.12890134e-01,  -2.09754942e-02,\n",
       "         -2.74049343e-02,   1.34495766e-01,   6.06072048e-02,\n",
       "          1.63852037e-03,  -1.86350393e-02,  -9.42201724e-02,\n",
       "          3.28268474e-02,   7.52549361e-02,  -2.34920954e-02,\n",
       "         -1.12312914e-02,   2.03023231e-02,   2.09656937e-02,\n",
       "          1.22559817e-02,   1.03663341e-01,   4.16615833e-02,\n",
       "          7.00094934e-02,  -7.28739603e-02,  -4.82471885e-02,\n",
       "         -8.99260874e-02,  -1.49909357e-02,  -7.50469953e-02,\n",
       "          6.85098027e-02,   4.28904380e-02,   1.12517174e-01,\n",
       "          1.01317355e-01,  -7.62480477e-02,  -5.26335179e-02,\n",
       "          1.93137517e-02,   1.21238234e-01,   5.10170691e-02,\n",
       "          7.13412729e-02,  -3.63419718e-02,   4.30209805e-02,\n",
       "          3.01450223e-02,   3.28683852e-02,  -7.92856894e-02,\n",
       "          3.29156838e-02,  -3.04437055e-02,   1.81851774e-02,\n",
       "         -3.38720702e-02,   2.85004494e-02,  -3.97262491e-02,\n",
       "          7.98506714e-03,  -1.54494652e-01,  -1.35955311e-01,\n",
       "          2.37578220e-02,  -1.47560952e-02,  -5.24202337e-02,\n",
       "         -2.58122493e-02,  -1.09176632e-01,  -8.83535316e-03,\n",
       "          3.60687513e-02,   4.55556110e-02,  -1.37734906e-02,\n",
       "          2.45967875e-02,  -4.19620517e-02,   2.84581750e-02,\n",
       "          3.49627548e-03,  -1.03053183e-01,   8.15782014e-02,\n",
       "          3.01239037e-02,  -2.27499673e-02,  -4.69360029e-02,\n",
       "         -8.72566606e-02,   1.36511525e-02,  -3.87862002e-02,\n",
       "         -3.63498043e-02,  -1.55925902e-01,   5.53662383e-02,\n",
       "         -1.02328271e-01,   4.86635945e-02,  -7.80600927e-02,\n",
       "          8.79868431e-03,   8.82256180e-02,  -3.02907011e-02,\n",
       "          5.43072268e-02,   6.17047819e-02,   4.04336195e-02,\n",
       "         -6.89225292e-02,   8.57543665e-02,  -3.04728653e-03,\n",
       "          5.69022023e-02,   2.81451364e-02,  -2.15765208e-02,\n",
       "          4.28315728e-02,  -5.92872495e-02,  -8.96732216e-03,\n",
       "         -2.73797140e-02,   1.56037969e-02,  -1.66935400e-02,\n",
       "          8.25716162e-02,   5.24592637e-02,  -8.39873105e-02,\n",
       "          4.18485438e-03,  -1.61206213e-03,  -1.60601377e-02,\n",
       "          1.48477893e-02,   5.83444844e-02,   3.59233210e-02,\n",
       "          2.81536364e-02,   3.77808638e-02,   2.64507625e-02,\n",
       "         -4.19767633e-02,  -8.42808756e-03,   2.72659924e-02,\n",
       "          8.31825824e-02,   1.04352952e-01,   7.46341310e-02,\n",
       "         -3.70727153e-02,   3.35782968e-02,   9.32165915e-02,\n",
       "          1.48056430e-02,  -5.49538249e-02,   2.64871911e-02,\n",
       "          8.41698364e-02,  -1.63843709e-02,  -9.36069559e-02,\n",
       "         -2.81466403e-02,  -6.78325976e-02,   9.05728934e-03,\n",
       "          1.01799778e-01,  -1.96246720e-03,   4.95200683e-02,\n",
       "         -7.05238631e-02,   4.87930845e-02,   2.28748641e-02,\n",
       "         -1.58240607e-02,   1.41100152e-01,   1.27925620e-02,\n",
       "         -5.88017694e-02,  -8.14350554e-02,   7.71886085e-04,\n",
       "         -2.18455562e-02,   1.11960120e-01,  -7.58692096e-02,\n",
       "         -1.73789608e-02,   1.35907348e-02,  -2.48842392e-02,\n",
       "          2.15783677e-02,   4.16067517e-02,   8.70555656e-02,\n",
       "         -1.64846858e-02,   3.76713355e-02,   6.05471923e-02,\n",
       "         -8.50874048e-02,   7.35943836e-02,  -1.19486176e-02,\n",
       "         -2.60455780e-02,   2.20828395e-02,  -6.70073005e-03]), 0)"
      ]
     },
     "execution_count": 26,
     "metadata": {},
     "output_type": "execute_result"
    }
   ],
   "source": [
    "x_data[0,:],y_data[0]"
   ]
  },
  {
   "cell_type": "markdown",
   "metadata": {},
   "source": [
    "### Train"
   ]
  },
  {
   "cell_type": "code",
   "execution_count": 27,
   "metadata": {},
   "outputs": [
    {
     "name": "stdout",
     "output_type": "stream",
     "text": [
      "At epoch 0 - Loss: 0.185\n",
      "At epoch 1000 - Loss: 0.005\n",
      "At epoch 2000 - Loss: 0.002\n",
      "At epoch 3000 - Loss: 0.001\n",
      "At epoch 4000 - Loss: 0.000\n",
      "At epoch 5000 - Loss: 0.000\n",
      "At epoch 6000 - Loss: 0.000\n",
      "At epoch 7000 - Loss: 0.000\n",
      "At epoch 8000 - Loss: 0.000\n",
      "At epoch 9000 - Loss: 0.000\n",
      "Train finished\n",
      "Final unfair evaluation positive class accuracy: 1.00\n"
     ]
    }
   ],
   "source": [
    "num_epochs = 10000\n",
    "display_freq = num_epochs//10\n",
    "\n",
    "loss_list = []\n",
    "loss_list_batch = []\n",
    "\n",
    "positive_acc_list = []\n",
    "gen_acc_list = []\n",
    "\n",
    "# Launch the graph\n",
    "with tf.Session() as sess:\n",
    "    tf.global_variables_initializer().run()\n",
    "    \n",
    "    \n",
    "    \n",
    "    for step in range(num_epochs):\n",
    "\n",
    "    \n",
    "        for batch_idx in range(num_batches):\n",
    "            batchx = x_data[batch_idx*batch_size:batch_idx*batch_size+batch_size,:]\n",
    "            batchy = y_data[batch_idx*batch_size:batch_idx*batch_size+batch_size]      \n",
    "            \n",
    "            feed = {x: batchx, y: batchy}\n",
    "\n",
    "            _,_loss,_softmax,_y = sess.run([optimizer,cost,logits,y], feed_dict=feed)\n",
    "            \n",
    "            loss_list_batch.append(np.average(_loss)) #Store av. batch loss\n",
    "            \n",
    "        #Add the av. loss of the batch to the loss list\n",
    "        loss_list.append(np.average(loss_list_batch))\n",
    "        loss_list_batch = []\n",
    "        \n",
    "        if (step % display_freq == 0):\n",
    "            _positive_acc,_gen_acc = sess.run([positive_acc,general_acc],feed_dict={x : x_data, y : y_data})\n",
    "            positive_acc_list.append(_positive_acc)\n",
    "            gen_acc_list.append(_gen_acc)\n",
    "            \n",
    "            print('At epoch %d - Loss: %.3f' %(step,np.average(_loss)))\n",
    "            \n",
    "    \n",
    "    print(\"Train finished\")\n",
    "    feed_test = {x : x_data, y : y_data}\n",
    "    _y,_softmax,_softargmax,_positive_acc,_gen_acc = sess.run([y,logits,tf.argmax(logits,1),positive_acc,general_acc],feed_dict=feed_test)\n",
    "    print('Final unfair evaluation positive class accuracy: %.2f' % _positive_acc)\n",
    "          \n",
    "\n",
    "    "
   ]
  },
  {
   "cell_type": "code",
   "execution_count": 28,
   "metadata": {},
   "outputs": [
    {
     "data": {
      "image/png": "[encoded data removed]",
      "text/plain": [
       "<matplotlib.figure.Figure at 0x222b7d34eb8>"
      ]
     },
     "metadata": {},
     "output_type": "display_data"
    }
   ],
   "source": [
    "import matplotlib.pyplot as plt\n",
    "%matplotlib inline\n",
    "\n",
    "plt.title('Loss')\n",
    "plt.scatter(x=np.arange(0,len(loss_list)),y=loss_list)\n",
    "plt.xlabel('epochs')\n",
    "plt.ylabel('loss')\n",
    "plt.show();"
   ]
  },
  {
   "cell_type": "code",
   "execution_count": 29,
   "metadata": {},
   "outputs": [
    {
     "data": {
      "image/png": "[encoded data removed]",
      "text/plain": [
       "<matplotlib.figure.Figure at 0x222b7a70358>"
      ]
     },
     "metadata": {},
     "output_type": "display_data"
    }
   ],
   "source": [
    "fig,axes = plt.subplots(1,2,figsize=(10,7))\n",
    "\n",
    "axes[0].set_title('Positive Acc.')\n",
    "axes[0].bar(left=np.arange(0,len(positive_acc_list)),height=positive_acc_list)\n",
    "axes[0].set_ylim(0,1)\n",
    "axes[0].set_xlabel('epochs')\n",
    "axes[0].set_ylabel('accuracy')\n",
    "\n",
    "axes[1].set_title('General Acc.')\n",
    "axes[1].bar(left=np.arange(0,len(gen_acc_list)),height=gen_acc_list)\n",
    "axes[1].set_ylim(0,1)\n",
    "axes[1].set_xlabel('epochs')\n",
    "axes[1].set_ylabel('accuracy')\n",
    "\n",
    "plt.show();"
   ]
  },
  {
   "cell_type": "code",
   "execution_count": 33,
   "metadata": {},
   "outputs": [
    {
     "data": {
      "text/plain": [
       "array([0, 0, 0, 0, 0, 0, 0, 0, 0, 0, 0, 0, 0, 0, 0, 0, 0, 0, 0, 0, 0, 0, 0,\n",
       "       0, 0, 0, 0, 0, 0, 0, 0, 0, 0, 0, 0, 0, 0, 0, 0, 0, 0, 0, 0, 0, 0, 0,\n",
       "       0, 0, 0, 0, 0, 0, 0, 0, 0, 0, 0, 0, 0, 0, 0, 0, 0, 0, 0, 1, 0, 0, 0,\n",
       "       0, 0, 0, 0, 0, 0, 0, 0, 0, 0, 0, 0, 0, 0, 0, 0, 0, 0, 0, 0, 0, 0, 0,\n",
       "       0, 0, 0, 0, 0, 0, 0, 0], dtype=int64)"
      ]
     },
     "execution_count": 33,
     "metadata": {},
     "output_type": "execute_result"
    }
   ],
   "source": [
    "_y"
   ]
  },
  {
   "cell_type": "code",
   "execution_count": 31,
   "metadata": {},
   "outputs": [
    {
     "data": {
      "text/plain": [
       "array([0, 0, 0, 0, 0, 0, 0, 0, 0, 0, 0, 0, 0, 0, 0, 0, 0, 0, 0, 0, 0, 0, 0,\n",
       "       0, 0, 0, 0, 0, 0, 0, 0, 0, 0, 0, 0, 0, 0, 0, 0, 0, 0, 0, 0, 0, 0, 0,\n",
       "       0, 0, 0, 0, 0, 0, 0, 0, 0, 0, 0, 0, 0, 0, 0, 0, 0, 0, 0, 1, 0, 0, 0,\n",
       "       0, 0, 0, 0, 0, 0, 0, 0, 0, 0, 0, 0, 0, 0, 0, 0, 0, 0, 0, 0, 0, 0, 0,\n",
       "       0, 0, 0, 0, 0, 0, 0, 0], dtype=int64)"
      ]
     },
     "execution_count": 31,
     "metadata": {},
     "output_type": "execute_result"
    }
   ],
   "source": [
    "_softargmax"
   ]
  }
 ],
 "metadata": {
  "kernelspec": {
   "display_name": "Python 3",
   "language": "python",
   "name": "python3"
  },
  "language_info": {
   "codemirror_mode": {
    "name": "ipython",
    "version": 3
   },
   "file_extension": ".py",
   "mimetype": "text/x-python",
   "name": "python",
   "nbconvert_exporter": "python",
   "pygments_lexer": "ipython3",
   "version": "3.5.3"
  }
 },
 "nbformat": 4,
 "nbformat_minor": 2
}
