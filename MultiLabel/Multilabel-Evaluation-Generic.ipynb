{
 "cells": [
  {
   "cell_type": "markdown",
   "metadata": {},
   "source": [
    "# Evaluation for Multi-label problems with Sklearn"
   ]
  },
  {
   "cell_type": "markdown",
   "metadata": {},
   "source": [
    "## Imports - Metrics used"
   ]
  },
  {
   "cell_type": "code",
   "execution_count": 1,
   "metadata": {
    "collapsed": true
   },
   "outputs": [],
   "source": [
    "import numpy as np\n",
    "\n",
    "#Metrics\n",
    "from sklearn import metrics\n",
    "\n",
    "import matplotlib.pyplot as plt\n",
    "import scipy as scipy\n",
    "import itertools as itertools"
   ]
  },
  {
   "cell_type": "markdown",
   "metadata": {},
   "source": [
    "## Data to evaluate\n",
    "\n",
    "6 observations with 3 binary classes and infrequent positive (1) class"
   ]
  },
  {
   "cell_type": "code",
   "execution_count": 2,
   "metadata": {
    "collapsed": true
   },
   "outputs": [],
   "source": [
    "n_observations = 6\n",
    "n_classes = 3"
   ]
  },
  {
   "cell_type": "raw",
   "metadata": {},
   "source": [
    "Ground truth:      Predicted:  \n",
    "  [1 0 0]    <->    [1 1 1]    => One well predicted\n",
    "  [0 1 0]    <->    [1 1 1]    => One well predicted\n",
    "  [0 0 1]    <->    [0 0 1]    => All well predicted\n",
    "  [1 0 1]    <->    [1 0 1]    => All well predicted\n",
    "  [0 0 0]    <->    [0 0 0]    => All well predicted\n",
    "  [1 1 1]    <->    [1 1 1]    => All well predicted"
   ]
  },
  {
   "cell_type": "code",
   "execution_count": 5,
   "metadata": {},
   "outputs": [
    {
     "name": "stdout",
     "output_type": "stream",
     "text": [
      "Ground truth:\n",
      "[[1 0 0]\n",
      " [0 1 0]\n",
      " [0 0 1]\n",
      " [1 0 1]\n",
      " [0 0 0]\n",
      " [1 1 1]]\n",
      "Predicted:\n",
      "[[1 1 1]\n",
      " [1 1 1]\n",
      " [0 0 1]\n",
      " [1 0 1]\n",
      " [0 0 0]\n",
      " [1 1 1]]\n"
     ]
    }
   ],
   "source": [
    "yGold = np.array([[1,0,0],[0,1,0],[0,0,1],[1,0,1],[0,0,0],[1,1,1]])\n",
    "y_ = np.array([[1,1,1],[1,1,1],[0,0,1],[1,0,1],[0,0,0],[1,1,1]])\n",
    "#y_ = np.ones(shape=(6,3),dtype='int')\n",
    "print('Ground truth:\\n%s' % yGold)\n",
    "print('Predicted:\\n%s' % y_)\n"
   ]
  },
  {
   "cell_type": "markdown",
   "metadata": {},
   "source": [
    "## Evaluation"
   ]
  },
  {
   "cell_type": "markdown",
   "metadata": {},
   "source": [
    "### Accuracy score"
   ]
  },
  {
   "cell_type": "markdown",
   "metadata": {},
   "source": [
    "The **accuracy_score** function computes the **accuracy**, either the **fraction (default)** or the **count (normalize=False)** of correct predictions.<br><br>\n",
    "In multilabel classification, the function returns the subset accuracy. If the entire set of predicted labels for a sample strictly match with the true set of labels, then the subset accuracy is 1.0; otherwise it is 0.0.<br><br>\n",
    "\n",
    "<img src=\"http://scikit-learn.org/stable/_images/math/cd4bea15b385d15cceb8e24f68976da7d8510290.png\">"
   ]
  },
  {
   "cell_type": "code",
   "execution_count": 6,
   "metadata": {},
   "outputs": [
    {
     "name": "stdout",
     "output_type": "stream",
     "text": [
      "Fraction: 0.67\n"
     ]
    }
   ],
   "source": [
    "#The fraction - Default\n",
    "acc_score = metrics.accuracy_score(y_true=yGold,y_pred=y_)\n",
    "print('Fraction: %.2f' %acc_score)"
   ]
  },
  {
   "cell_type": "code",
   "execution_count": 7,
   "metadata": {
    "collapsed": true
   },
   "outputs": [],
   "source": [
    "#The count - (normalize = False)"
   ]
  },
  {
   "cell_type": "code",
   "execution_count": 8,
   "metadata": {},
   "outputs": [
    {
     "name": "stdout",
     "output_type": "stream",
     "text": [
      "Count: 4\n"
     ]
    }
   ],
   "source": [
    "acc_score_count = metrics.accuracy_score(y_true=yGold,y_pred=y_,normalize=False)\n",
    "print('Count: %d' %acc_score_count)"
   ]
  },
  {
   "cell_type": "markdown",
   "metadata": {},
   "source": [
    "### Pure multiclass and multilabel classification"
   ]
  },
  {
   "cell_type": "markdown",
   "metadata": {},
   "source": [
    "In multiclass and multilabel classification task, the notions of precision, recall, and F-measures can be applied to each label independently. There are a few ways to combine results across labels, specified by the average argument to the **average_precision_score** (multilabel only), **f1_score**, **fbeta_score**, **precision_recall_fscore_support**, **precision_score** and **recall_score** function"
   ]
  },
  {
   "cell_type": "markdown",
   "metadata": {},
   "source": [
    "### Average precision score"
   ]
  },
  {
   "cell_type": "code",
   "execution_count": 9,
   "metadata": {},
   "outputs": [
    {
     "name": "stdout",
     "output_type": "stream",
     "text": [
      "Average precision scores:\n",
      "micro: 0.83 - macro: 0.84 - weighted: 0.84\n"
     ]
    }
   ],
   "source": [
    "apc_micro = metrics.average_precision_score(yGold,y_,average='micro')\n",
    "apc_macro = metrics.average_precision_score(yGold,y_,average='macro')\n",
    "apc_weighted = metrics.average_precision_score(yGold,y_,average='weighted')\n",
    "\n",
    "print('Average precision scores:')\n",
    "print('micro: %.2f - macro: %.2f - weighted: %.2f' % (apc_micro,apc_macro,apc_weighted))"
   ]
  },
  {
   "cell_type": "markdown",
   "metadata": {},
   "source": [
    "### F1 score"
   ]
  },
  {
   "cell_type": "code",
   "execution_count": 10,
   "metadata": {},
   "outputs": [
    {
     "name": "stdout",
     "output_type": "stream",
     "text": [
      "F1 score:\n",
      "micro: 0.80 - macro: 0.80 - weighted: 0.80\n"
     ]
    }
   ],
   "source": [
    "f1_score_micro = metrics.f1_score(yGold,y_,average='micro')\n",
    "f1_score_macro = metrics.f1_score(yGold,y_,average='macro')\n",
    "f1_score_weighted = metrics.f1_score(yGold,y_,average='weighted')\n",
    "\n",
    "print('F1 score:')\n",
    "print('micro: %.2f - macro: %.2f - weighted: %.2f' % (f1_score_micro,f1_score_macro,f1_score_weighted))"
   ]
  },
  {
   "cell_type": "markdown",
   "metadata": {},
   "source": [
    "### F beta score"
   ]
  },
  {
   "cell_type": "code",
   "execution_count": 11,
   "metadata": {},
   "outputs": [
    {
     "name": "stdout",
     "output_type": "stream",
     "text": [
      "F beta score:\n",
      "micro: 0.91 - macro: 0.91 - weighted: 0.91\n"
     ]
    }
   ],
   "source": [
    "fbeta_score_micro = metrics.fbeta_score(yGold,y_,average='micro',beta=2)\n",
    "fbeta_score_macro = metrics.fbeta_score(yGold,y_,average='macro',beta=2)\n",
    "fbeta_score_weighted = metrics.fbeta_score(yGold,y_,average='weighted',beta=2)\n",
    "\n",
    "print('F beta score:')\n",
    "print('micro: %.2f - macro: %.2f - weighted: %.2f' % (fbeta_score_micro,fbeta_score_macro,fbeta_score_weighted))"
   ]
  },
  {
   "cell_type": "markdown",
   "metadata": {},
   "source": [
    "### Precision score"
   ]
  },
  {
   "cell_type": "code",
   "execution_count": 12,
   "metadata": {},
   "outputs": [
    {
     "name": "stdout",
     "output_type": "stream",
     "text": [
      "Precision score:\n",
      "micro: 0.67 - macro: 0.67 - weighted: 0.67\n"
     ]
    }
   ],
   "source": [
    "precision_micro = metrics.precision_score(yGold,y_,average='micro')\n",
    "precision_macro = metrics.precision_score(yGold,y_,average='macro')\n",
    "precision_weighted = metrics.precision_score(yGold,y_,average='weighted')\n",
    "\n",
    "print('Precision score:')\n",
    "print('micro: %.2f - macro: %.2f - weighted: %.2f' % (precision_micro,precision_macro,precision_weighted))"
   ]
  },
  {
   "cell_type": "markdown",
   "metadata": {},
   "source": [
    "### Recall score"
   ]
  },
  {
   "cell_type": "code",
   "execution_count": 13,
   "metadata": {},
   "outputs": [
    {
     "name": "stdout",
     "output_type": "stream",
     "text": [
      "Recall score:\n",
      "micro: 1.00 - macro: 1.00 - weighted: 1.00\n"
     ]
    }
   ],
   "source": [
    "recall_micro = metrics.recall_score(yGold,y_,average='micro')\n",
    "recall_macro = metrics.recall_score(yGold,y_,average='macro')\n",
    "recall_weighted = metrics.recall_score(yGold,y_,average='weighted')\n",
    "\n",
    "print('Recall score:')\n",
    "print('micro: %.2f - macro: %.2f - weighted: %.2f' % (recall_micro,recall_macro,recall_weighted))"
   ]
  },
  {
   "cell_type": "markdown",
   "metadata": {},
   "source": [
    "### Precision recall f-score support"
   ]
  },
  {
   "cell_type": "code",
   "execution_count": 14,
   "metadata": {},
   "outputs": [
    {
     "name": "stdout",
     "output_type": "stream",
     "text": [
      "Precision recall f-score support:\n",
      "micro: (0.66666666666666663, 1.0, 0.80000000000000004, None)\n",
      "macro: (0.67222222222222217, 1.0, 0.80238095238095231, None)\n",
      "weighted: (0.67291666666666661, 1.0, 0.80267857142857135, None)\n"
     ]
    }
   ],
   "source": [
    "prfscore_micro = metrics.precision_recall_fscore_support(yGold,y_,average='micro')\n",
    "prfscore_macro = metrics.precision_recall_fscore_support(yGold,y_,average='macro')\n",
    "prfscore_weighted = metrics.precision_recall_fscore_support(yGold,y_,average='weighted')\n",
    "\n",
    "print('Precision recall f-score support:')\n",
    "print('micro:',prfscore_micro)\n",
    "print('macro:',prfscore_macro)\n",
    "print('weighted:',prfscore_weighted)"
   ]
  },
  {
   "cell_type": "markdown",
   "metadata": {},
   "source": [
    "### Receiver operating characteristic (ROC)\n",
    "\n",
    "and confusion matrix"
   ]
  },
  {
   "cell_type": "code",
   "execution_count": 15,
   "metadata": {},
   "outputs": [],
   "source": [
    "# Compute ROC curve and ROC area for each class\n",
    "fpr = dict()\n",
    "tpr = dict()\n",
    "roc_auc = dict()\n",
    "for i in range(n_classes):\n",
    "    fpr[i], tpr[i], _ = metrics.roc_curve(yGold[:,i], y_[:,i])\n",
    "    roc_auc[i] = metrics.auc(fpr[i], tpr[i])\n",
    "\n",
    "# Compute micro-average ROC curve and ROC area\n",
    "fpr[\"micro\"], tpr[\"micro\"], _ = metrics.roc_curve(yGold.ravel(), y_.ravel())\n",
    "roc_auc[\"micro\"] = metrics.auc(fpr[\"micro\"], tpr[\"micro\"])"
   ]
  },
  {
   "cell_type": "code",
   "execution_count": 16,
   "metadata": {},
   "outputs": [
    {
     "data": {
      "image/png": "[encoded data removed]",
      "text/plain": [
       "<matplotlib.figure.Figure at 0x2a5db06f9e8>"
      ]
     },
     "metadata": {},
     "output_type": "display_data"
    }
   ],
   "source": [
    "plt.figure()\n",
    "lw = 2\n",
    "plt.plot(fpr[2], tpr[2], color='darkorange',\n",
    "         lw=lw, label='ROC curve (area = %0.2f)' % roc_auc[2])\n",
    "plt.plot([0, 1], [0, 1], color='navy', lw=lw, linestyle='--')\n",
    "plt.xlim([0.0, 1.0])\n",
    "plt.ylim([0.0, 1.05])\n",
    "plt.xlabel('False Positive Rate')\n",
    "plt.ylabel('True Positive Rate')\n",
    "plt.title('Receiver operating characteristic example')\n",
    "plt.legend(loc=\"lower right\")\n",
    "plt.show()"
   ]
  },
  {
   "cell_type": "code",
   "execution_count": 17,
   "metadata": {},
   "outputs": [
    {
     "data": {
      "image/png": "[encoded data removed]",
      "text/plain": [
       "<matplotlib.figure.Figure at 0x2a5db0e2390>"
      ]
     },
     "metadata": {},
     "output_type": "display_data"
    }
   ],
   "source": [
    "\n",
    "# Compute macro-average ROC curve and ROC area\n",
    "\n",
    "# First aggregate all false positive rates\n",
    "all_fpr = np.unique(np.concatenate([fpr[i] for i in range(n_classes)]))\n",
    "\n",
    "# Then interpolate all ROC curves at this points\n",
    "mean_tpr = np.zeros_like(all_fpr)\n",
    "for i in range(n_classes):\n",
    "    mean_tpr += scipy.interp(all_fpr, fpr[i], tpr[i])\n",
    "\n",
    "# Finally average it and compute AUC\n",
    "mean_tpr /= n_classes\n",
    "\n",
    "fpr[\"macro\"] = all_fpr\n",
    "tpr[\"macro\"] = mean_tpr\n",
    "roc_auc[\"macro\"] = metrics.auc(fpr[\"macro\"], tpr[\"macro\"])\n",
    "\n",
    "# Plot all ROC curves\n",
    "plt.figure()\n",
    "plt.plot(fpr[\"micro\"], tpr[\"micro\"],\n",
    "         label='micro-average ROC curve (area = {0:0.2f})'\n",
    "               ''.format(roc_auc[\"micro\"]),\n",
    "         color='deeppink', linestyle=':', linewidth=4)\n",
    "\n",
    "plt.plot(fpr[\"macro\"], tpr[\"macro\"],\n",
    "         label='macro-average ROC curve (area = {0:0.2f})'\n",
    "               ''.format(roc_auc[\"macro\"]),\n",
    "         color='navy', linestyle=':', linewidth=4)\n",
    "\n",
    "colors = itertools.cycle(['aqua', 'darkorange', 'cornflowerblue'])\n",
    "for i, color in zip(range(n_classes), colors):\n",
    "    plt.plot(fpr[i], tpr[i], color=color, lw=lw,\n",
    "             label='ROC curve of class {0} (area = {1:0.2f})'\n",
    "             ''.format(i, roc_auc[i]))\n",
    "\n",
    "plt.plot([0, 1], [0, 1], 'k--', lw=lw)\n",
    "plt.xlim([0.0, 1.0])\n",
    "plt.ylim([0.0, 1.05])\n",
    "plt.xlabel('False Positive Rate')\n",
    "plt.ylabel('True Positive Rate')\n",
    "plt.title('Some extension of Receiver operating characteristic to multi-class')\n",
    "plt.legend(loc=\"lower right\")\n",
    "plt.show()"
   ]
  }
 ],
 "metadata": {
  "kernelspec": {
   "display_name": "Python 3",
   "language": "python",
   "name": "python3"
  },
  "language_info": {
   "codemirror_mode": {
    "name": "ipython",
    "version": 3
   },
   "file_extension": ".py",
   "mimetype": "text/x-python",
   "name": "python",
   "nbconvert_exporter": "python",
   "pygments_lexer": "ipython3",
   "version": "3.5.3"
  }
 },
 "nbformat": 4,
 "nbformat_minor": 2
}
